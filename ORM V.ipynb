{
 "cells": [
  {
   "cell_type": "markdown",
   "id": "9a3ccb7a",
   "metadata": {},
   "source": [
    "# Django ORM - optymalizacja zapytań"
   ]
  },
  {
   "cell_type": "markdown",
   "id": "d9df2aa9-466b-445e-98f5-9063dddcb633",
   "metadata": {},
   "source": [
    "Najpierw linijki, które pozwolą nam swobodnie korzystać z Django w notatniku Jupyter."
   ]
  },
  {
   "cell_type": "code",
   "execution_count": null,
   "id": "40ba6b4a-f695-4d91-abe2-80c6c07d384f",
   "metadata": {},
   "outputs": [],
   "source": [
    "import os\n",
    "import django\n",
    "os.environ.setdefault('DJANGO_SETTINGS_MODULE', 'intro.settings')\n",
    "os.environ[\"DJANGO_ALLOW_ASYNC_UNSAFE\"] = \"true\"\n",
    "django.setup()"
   ]
  },
  {
   "cell_type": "markdown",
   "id": "ff72ed30-bc2e-453f-b3d3-249fa2b35fc9",
   "metadata": {},
   "source": [
    "### 1. Złączenia (join)"
   ]
  },
  {
   "cell_type": "markdown",
   "id": "c9a167ef-0216-4f2e-9d4c-26d1a4320c80",
   "metadata": {},
   "source": [
    "Nawiązując do poprzedniego notatnika (ORM IV), w jaki sposób, za pomocą dotychczas poznanych narzędzi moglibyś zrealizować joina?"
   ]
  },
  {
   "cell_type": "markdown",
   "id": "3d63b3c6-8d00-4939-ab65-fd3fa69e5185",
   "metadata": {},
   "source": [
    "Weźmy tabelki Framework i language"
   ]
  },
  {
   "cell_type": "code",
   "execution_count": null,
   "id": "49d7680a-b35d-4719-b0cc-614451a90ff5",
   "metadata": {},
   "outputs": [],
   "source": [
    "from orm_app.models import Framework, Language"
   ]
  },
  {
   "cell_type": "markdown",
   "id": "c629f34b-7311-4f33-8783-57271af534b5",
   "metadata": {},
   "source": [
    "Z tabelki Framework wyciągnijmy Django"
   ]
  },
  {
   "cell_type": "code",
   "execution_count": null,
   "id": "6dcf5985-b8f1-4ae3-972e-da77d3523631",
   "metadata": {},
   "outputs": [],
   "source": [
    "django_qs = Framework.objects.filter(name='django')\n",
    "\n",
    "# na bazie wykona się taka sqlka\n",
    "print(django_qs.query)"
   ]
  },
  {
   "cell_type": "code",
   "execution_count": null,
   "id": "b893bbba-e1f9-4912-873f-7c95650f4774",
   "metadata": {},
   "outputs": [],
   "source": [
    "django = django_qs[0]\n",
    "django"
   ]
  },
  {
   "cell_type": "code",
   "execution_count": null,
   "id": "86492272-3dc7-4894-bf1b-2dad77a50198",
   "metadata": {},
   "outputs": [],
   "source": [
    "# jeżeli teraz chcemy wyciągnąć powiązany z wpisem django wpis z tabelki Language\n",
    "python = django.language\n",
    "\n",
    "# to django orm musi wykonać kolejne zapytanie na bazę\n",
    "python"
   ]
  },
  {
   "cell_type": "markdown",
   "id": "1b7f06ed-90b8-43d0-96bc-b38793e5a85f",
   "metadata": {},
   "source": [
    "Załóżmy teraz, że chcemy wyświetlić język wszystkich frameworków zapisanych w bazie. Wykorzystując dotychczas poznane narzędzie kod mógłby wyglądać mniej więcej tak:"
   ]
  },
  {
   "cell_type": "code",
   "execution_count": null,
   "id": "e88822e8-1e2e-4c56-bcd6-1d4d719e6e04",
   "metadata": {},
   "outputs": [],
   "source": [
    "frameworks = Framework.objects.all()\n",
    "\n",
    "for framework in frameworks:\n",
    "    print(framework.language)"
   ]
  },
  {
   "cell_type": "markdown",
   "id": "f0ddee87-02ba-4e2d-8a04-7a374766240f",
   "metadata": {},
   "source": [
    "Przy założeniu, że w bazie mamy zapisane 100 frameworków django będzie musiał uderzyć na bazę 101 razy (raz, żeby wyciągnąć wszystkie frameworki i później po razie na każdy framework, żeby wyciągnąć jego język). "
   ]
  },
  {
   "cell_type": "markdown",
   "id": "12bb0dab-29ac-4c13-a4d9-307f07099ab9",
   "metadata": {},
   "source": [
    "Znając klauzulę JOIN wiemy, że z jej użyciem możnabyłoby wszystkie potrzebne informacje wyciągnąc za pomocą jednego zapytania na bazę. Ma to szczególne znaczenie, kiedy wyciągamy dużo wpisów (np. 100 albo 1000). 1000 dodatkowych zapytań do bazy wygeneruje zauważalne wydłużenie czasu wykonywania kodu. Jak zmusić django orm do wykonania JOINa?"
   ]
  },
  {
   "cell_type": "markdown",
   "id": "5f2ffab4-dca7-46b6-a3f7-920d1960f9b8",
   "metadata": {},
   "source": [
    "Za pomocą django orm **instrukcje join** możemy zrealizować na dwa sposoby:\n",
    "- `select_related`\n",
    "- `prefetch_related`"
   ]
  },
  {
   "cell_type": "markdown",
   "id": "826a46a8-e4dd-4f43-a155-8bc05a00e583",
   "metadata": {},
   "source": [
    "To, której metody będziemy chcieli użyć zależy od charaketru relacji wzdłuż, której złączamy tabelki."
   ]
  },
  {
   "cell_type": "markdown",
   "id": "9309d471-75c7-41c2-8cec-0886fdf2ad19",
   "metadata": {},
   "source": [
    "#### select_related"
   ]
  },
  {
   "cell_type": "markdown",
   "id": "e388d52e-472f-4787-8074-471e1ff7aae4",
   "metadata": {},
   "source": [
    "`select_related` wykonuje trdycyjnego joina, bez żadnych dodatkowych usprawnień. Używamy w przypadku relacji o2o oraz o2m. Proba użycia na relacji m2m zakończy się błędem z przyczyn, o których poniżej."
   ]
  },
  {
   "cell_type": "code",
   "execution_count": null,
   "id": "30e09858-866c-43b6-be44-969a5cc68732",
   "metadata": {},
   "outputs": [],
   "source": [
    "frameworks = Framework.objects.select_related()\n",
    "\n",
    "# tym razem na bazie wykona się taka sqlka\n",
    "print(frameworks.query)"
   ]
  },
  {
   "cell_type": "markdown",
   "id": "1834a525-5ee4-422b-8d33-b7950ab1fa69",
   "metadata": {},
   "source": [
    "Widzimy joina. Django orm wyciągnie z bazy informacje o wpisach powiązanych i powkłada te informacje do odpowiednich obiektów w taki sposób, że odwołując się do języka frameworka, orm nie będzie potrzebował, ponownie uderzyć na bazę."
   ]
  },
  {
   "cell_type": "code",
   "execution_count": null,
   "id": "a97f946c-8a95-4e22-9e87-c23e03fe73cb",
   "metadata": {},
   "outputs": [],
   "source": [
    "# tym razem ten kod wykona się bez uderzania na bazę\n",
    "for framework in frameworks:\n",
    "    print(framework.language)"
   ]
  },
  {
   "cell_type": "markdown",
   "id": "75fa7aca-2ce9-4871-9de9-ef23316a474f",
   "metadata": {},
   "source": [
    "Jeżeli chcemy zrobić joina tylko z wybranymi powiązaniami (a nie ze wszystkimi), dopisujemy nazwy wybranych kluczy obcych jako parametry pozycyjne metody select_related."
   ]
  },
  {
   "cell_type": "code",
   "execution_count": null,
   "id": "5e5d7b79-cdf0-47e2-ac32-f2ee6e3ccfe6",
   "metadata": {},
   "outputs": [],
   "source": [
    "frameworks = Framework.objects.select_related('language')\n",
    "print(qs.query)  \n",
    "# w tym przykładzie nie widzimy różnicy pomiędzy tym zapytaniem, a poprzednim ponieważ tabelka framework ma tylko \n",
    "# jedno powiązanie (z tabelką Language)"
   ]
  },
  {
   "cell_type": "markdown",
   "id": "1b30ed55-5330-4dce-b4ec-b9a8191be1a8",
   "metadata": {},
   "source": [
    "Jeżeli chcielibyśmy robić kolejnego joina z wykorzystaniem danych z tabeli zjoinowanej, możemy posłużyć się `field lookupami`. Założmy hipotetycznie, że tabelka language ma jeszcze kolumnę type, która jest kluczem obcym do tabelki Type (niech tabelka Type reprezentuje typ języka programowania, np. statyczny, dynamiczny). Jeżeli chcielibyśmy zjoinować również tą kolejną tabelkę, możemy to zrobić w sposób:"
   ]
  },
  {
   "cell_type": "code",
   "execution_count": null,
   "id": "ff5f5743-9168-4b75-8a1a-3b7d8267a926",
   "metadata": {},
   "outputs": [],
   "source": [
    "frameworks = Framework.objects.select_related('language__type')\n",
    "print(frameworks.query)\n",
    "# W ten sposób możemy łańcuchować lookupy joinując dalsze tabelki"
   ]
  },
  {
   "cell_type": "markdown",
   "id": "dd4e4020-41a1-44f7-8e5c-199100e59d10",
   "metadata": {},
   "source": [
    "W wyniku wykonywania joinów czasami (zwłaszcza w przypadku relacji m2m) możemy wyciągać z bazy dużą ilość danych. Z myślą o takich przypadkach django orm udostępnia drugą metodę na zrealizowanie joina - `prefetch_related`."
   ]
  },
  {
   "cell_type": "markdown",
   "id": "fe7ce307-833f-4040-97d1-98e33b062259",
   "metadata": {},
   "source": [
    "#### prefetch_related"
   ]
  },
  {
   "cell_type": "code",
   "execution_count": null,
   "id": "2dd38dfc-3d01-47a4-aaab-cff8d0a03df7",
   "metadata": {},
   "outputs": [],
   "source": [
    "frameworks = Framework.objects.prefetch_related()\n",
    "\n",
    "print(frameworks.query)"
   ]
  },
  {
   "cell_type": "markdown",
   "id": "b2f4357b-bb2a-49b0-9fa1-c01e6f7d58c3",
   "metadata": {},
   "source": [
    "Tutaj nie widzimy, żeby django zrobił jakiegoś joina, ale pod spodem django wykonał dwa zapytania na bazę. Jedno to to, którego sql widzimy powyżej. Drugie zapytanie było o wpisy powiązane. A następnie połączył te informacje ze sobą już po stronie pythona. W efekcie zamiast 101 zapytań zrobiliśmy dwa. \n",
    "\n",
    "`prefech_related` używamy kiedy nie chcemy uderzać wiele razy na bazę, a jednocześnie wiemy że w wyniku pojdynczego zapytania dostaniemy ogromną liczbę danych, których przetworzenie może zająć więcej czasu niż przetworzenie tej samej ilości danych, ale w dwóch (kilku) mniejszych zbiorach."
   ]
  },
  {
   "cell_type": "markdown",
   "id": "3b01456b-4970-40bd-b90f-ad3453906a5f",
   "metadata": {},
   "source": [
    "Jednym z najlepszych sposobów na śledzenie jakości zapytań bazodanowych po stronie Django jest użycie Django Debug Toolbar (https://django-debug-toolbar.readthedocs.io/en/latest/installation.html), dodatku do django, który monitoruje wiele parametrów widoku, wśród których znajduje się liczba zapytań sql i czas ich wykonania."
   ]
  },
  {
   "cell_type": "markdown",
   "id": "569c27a8-c368-4072-b78d-ec5ffb650bcf",
   "metadata": {},
   "source": [
    "### 2. Ograniczanie wyniku - wybór wskazanych pól"
   ]
  },
  {
   "cell_type": "markdown",
   "id": "aed61773",
   "metadata": {},
   "source": [
    "Pracować będziemy na modelu postaci:\n",
    "\n",
    "<code>\n",
    "class Product(models.Model):\n",
    "    title = models.CharField(max_length=100)\n",
    "    manufacturer = models.CharField(max_length=100)\n",
    "    price = models.IntegerField()\n",
    "</code>\n",
    "<code>\n",
    "    a = models.CharField(max_length=100)\n",
    "    b = models.CharField(max_length=100)\n",
    "    c = models.CharField(max_length=100)\n",
    "</code>\n",
    "<code>    \n",
    "    product_secret_id = models.CharField(max_length=100)\n",
    "</code>\n",
    "\n",
    "Dopisz powyższy model do jednej ze swoich aplikacji."
   ]
  },
  {
   "cell_type": "markdown",
   "id": "77cf9c96",
   "metadata": {},
   "source": [
    "Zaimportujmy model"
   ]
  },
  {
   "cell_type": "code",
   "execution_count": null,
   "id": "0bab577b",
   "metadata": {},
   "outputs": [],
   "source": [
    "from orm_app.models import Product"
   ]
  },
  {
   "cell_type": "markdown",
   "id": "6f06caec",
   "metadata": {},
   "source": [
    "Dodajmy kilka wpisów"
   ]
  },
  {
   "cell_type": "code",
   "execution_count": null,
   "id": "be19a585",
   "metadata": {},
   "outputs": [],
   "source": [
    "product1 = Product.objects.create(\n",
    "    title='test1',\n",
    "    manufacturer='test',\n",
    "    price=100,\n",
    "    a='ala',\n",
    "    b='ma',\n",
    "    c='kota',\n",
    "    product_secret_id='1111'\n",
    ")\n",
    "\n",
    "product2 = Product.objects.create(\n",
    "    title='test2',\n",
    "    manufacturer='test',\n",
    "    price=10,\n",
    "    a='kot',\n",
    "    b='ma',\n",
    "    c='ale',\n",
    "    product_secret_id='2222'\n",
    ")\n",
    "\n",
    "product3 = Product.objects.create(\n",
    "    title='test3',\n",
    "    manufacturer='test',\n",
    "    price=1,\n",
    "    a='ewa',\n",
    "    b='ma',\n",
    "    c='psa',\n",
    "    product_secret_id='3333'\n",
    ")"
   ]
  },
  {
   "cell_type": "markdown",
   "id": "e830105e",
   "metadata": {},
   "source": [
    "I napiszmy zapytanie o wszystkie wpisy w tabelce."
   ]
  },
  {
   "cell_type": "code",
   "execution_count": null,
   "id": "581d3eed",
   "metadata": {},
   "outputs": [],
   "source": [
    "products = Product.objects.all()\n",
    "print(products.query)"
   ]
  },
  {
   "cell_type": "markdown",
   "id": "9f8afc16",
   "metadata": {},
   "source": [
    "Powyższe zapytanie zwraca nam wartości WSZYSTKICH KOLUMN ze wszystkich wpisów w tabelce. Jak napisać zapytanie, które wyciągnie wartości tylko z wybranych kolumn?"
   ]
  },
  {
   "cell_type": "markdown",
   "id": "f85b6307",
   "metadata": {},
   "source": [
    "Możemy oczywiście wyciągnąć z queryseta tylko te wartości, które nas interesują"
   ]
  },
  {
   "cell_type": "code",
   "execution_count": null,
   "id": "9d26e08d",
   "metadata": {},
   "outputs": [],
   "source": [
    "[(product.title, product.manufacturer, product.price) for product in products]"
   ]
  },
  {
   "cell_type": "markdown",
   "id": "b0853b23",
   "metadata": {},
   "source": [
    "Ale w ten sposób wciąż wyciągamy z bazy znacznie więcej informacji niż jest nam potrzebne (i dopiero w pythonie wybieramy z tego wyciąganiętego zbiory tylko te informacje, które nas interesują). Może to generować szereg istotnych problemów:\n",
    "- im więcej danych chcemy wyciągnąć z bazy, tym dłużej użytkownicy będą czakać na wykonanie zapytania (oraz przesyłanie wyciągniętych danych) \n",
    "- w czasie kiedy wykonywane jest zapytanie na bazie inne zapytania muszą czekać, co ogranicza liczbę użytkowników jaką nasza aplikacja może płynnie obsłużyc\n",
    "- obecnie, często w rozwiązaniach chmurowych za wykonanie zapytania płaci się proporcjonalnie do czasu wykonywania tego zapytania na bazie, co jeszcze bardziej podnosi rangę problemu\n",
    "\n",
    "Oczywistym staje się potrzeba zminimalizowania ilość danych przesyłanych pomiędzy bazą a aplikacją. Chcemy wyciągnąć z bazy wyłącznie te informacje, które są nam potrzebne (co zawsze jest dobrą praktyką).\n",
    "\n",
    "Mamy 4 metody, których możemy w tym celu użyć:\n",
    "- `only`\n",
    "- `defer`\n",
    "- `values`\n",
    "- `values_list`"
   ]
  },
  {
   "cell_type": "markdown",
   "id": "763f2de8",
   "metadata": {},
   "source": [
    "### only"
   ]
  },
  {
   "cell_type": "code",
   "execution_count": null,
   "id": "f5df52ee",
   "metadata": {},
   "outputs": [],
   "source": [
    "products = Product.objects.all().only('title', 'manufacturer', 'price')\n",
    "print(products.query)"
   ]
  },
  {
   "cell_type": "code",
   "execution_count": null,
   "id": "bac86769",
   "metadata": {},
   "outputs": [],
   "source": [
    "print(products)"
   ]
  },
  {
   "cell_type": "markdown",
   "id": "3edfc403",
   "metadata": {},
   "source": [
    "W wyniku otrzymujemy tradycyjnego queryseta, którego wartości to obiekty klasy `Product`."
   ]
  },
  {
   "cell_type": "markdown",
   "id": "c4a22aff",
   "metadata": {},
   "source": [
    "Użycie only nie zabezpiecza nas jednak przed odpytywaniem bazy o pola, których nie wyciągneliśmy z bazy. W przypadku, gdybyśmy odwołali się do pola a wpisu, django orm po prostu drugi raz uderzy na baze i pobierze tę wartość."
   ]
  },
  {
   "cell_type": "code",
   "execution_count": null,
   "id": "1d598ef2",
   "metadata": {},
   "outputs": [],
   "source": [
    "products[0].a"
   ]
  },
  {
   "cell_type": "markdown",
   "id": "961de44a",
   "metadata": {},
   "source": [
    "W skrajnych przypadkach może to prowadzić do wykonania setek/tysięcy dodatkowych zapytań na bazę. Dlatego należy zwrócić szczególną uwagę na to, żeby w metodzie only umieścić wszystkie pola modelu, które zamierzamy użyć."
   ]
  },
  {
   "cell_type": "markdown",
   "id": "4abcf486-86d0-490f-8613-4e56dac3ac50",
   "metadata": {},
   "source": [
    "Istnieje druga bardzo podobna metoda - `defer`."
   ]
  },
  {
   "cell_type": "markdown",
   "id": "8fee6f10-be9a-4a97-9d93-16b5ac906950",
   "metadata": {},
   "source": [
    "### defer"
   ]
  },
  {
   "cell_type": "markdown",
   "id": "23a14439-adaa-4ab8-bd72-201fc96abcee",
   "metadata": {},
   "source": [
    " Metoda `defer` działa identycznie jak metoda `only` z dokładnością do tego, że jako parametr podajemy te wartości, których z bazy nie chcemy pobierać."
   ]
  },
  {
   "cell_type": "code",
   "execution_count": null,
   "id": "925f4586-dcbf-49ee-afdd-37b48d02733e",
   "metadata": {},
   "outputs": [],
   "source": [
    "products = Product.objects.all().defer('title', 'manufacturer', 'price')\n",
    "print(products.query)"
   ]
  },
  {
   "cell_type": "markdown",
   "id": "99f91a98-6970-4278-8541-3f207d878333",
   "metadata": {},
   "source": [
    "Widzimy, że w zapytaniu nie ma żadnego ze wskazanych pól (`title`, `manufacturer`, `price`). Ale wciąż możemy o nie odpytać. Będzie to jednak wymagało kolejnego uderzenia na bazę."
   ]
  },
  {
   "cell_type": "code",
   "execution_count": null,
   "id": "e911da29-c55d-46eb-8208-069866526a28",
   "metadata": {},
   "outputs": [],
   "source": [
    "products[0].title"
   ]
  },
  {
   "cell_type": "markdown",
   "id": "60252c0c",
   "metadata": {},
   "source": [
    "Do dyspozycji mamy również drugą metodą - `values`, która w niektórych scenariuszach moze okazać się lepszym rozwiązaniem."
   ]
  },
  {
   "cell_type": "markdown",
   "id": "1c401415",
   "metadata": {},
   "source": [
    "### values"
   ]
  },
  {
   "cell_type": "code",
   "execution_count": null,
   "id": "f7fac8f3",
   "metadata": {},
   "outputs": [],
   "source": [
    "products = Product.objects.all().values('title', 'manufacturer', 'price')\n",
    "print(products.query)"
   ]
  },
  {
   "cell_type": "code",
   "execution_count": null,
   "id": "013db520",
   "metadata": {},
   "outputs": [],
   "source": [
    "print(products)"
   ]
  },
  {
   "cell_type": "markdown",
   "id": "76b30028",
   "metadata": {},
   "source": [
    "Tym razem dostaliśmy queryset, ale słowników (a nie obiektów klasy Product). "
   ]
  },
  {
   "cell_type": "code",
   "execution_count": null,
   "id": "32870978",
   "metadata": {},
   "outputs": [],
   "source": [
    "print(products[0])"
   ]
  },
  {
   "cell_type": "code",
   "execution_count": null,
   "id": "c91fe3f8",
   "metadata": {},
   "outputs": [],
   "source": [
    "print(type(products[0]))"
   ]
  },
  {
   "cell_type": "markdown",
   "id": "7f97a739",
   "metadata": {},
   "source": [
    "Korzyści:\n",
    "\n",
    "1. słowniki pythonowe zajmują mniej pamięci niż obiekty modelu\n",
    "2. nie jesteśmy już w stanie z pojedynczego elementu tego queryseta wyciągnąć wartość pola, którego nie zawarliśmy w parametrach metody `values`. "
   ]
  },
  {
   "cell_type": "code",
   "execution_count": null,
   "id": "70bf8962",
   "metadata": {},
   "outputs": [],
   "source": [
    "print(products[0]['title'])"
   ]
  },
  {
   "cell_type": "markdown",
   "id": "d451d425-b991-4efe-88f9-bb487b6a1954",
   "metadata": {},
   "source": [
    "Zamiast słowników możemy otrzymać to samo w postaci krotek za pomocą metody `values_list`."
   ]
  },
  {
   "cell_type": "markdown",
   "id": "b2d26bf1-2fca-4953-b4c3-2550e9943ea8",
   "metadata": {},
   "source": [
    "### values_list"
   ]
  },
  {
   "cell_type": "code",
   "execution_count": null,
   "id": "7ff1da3c-b0a7-486a-bde3-a333cfa9ab9c",
   "metadata": {},
   "outputs": [],
   "source": [
    "products = Product.objects.all().values_list('title', 'manufacturer', 'price')\n",
    "print(products.query)"
   ]
  },
  {
   "cell_type": "code",
   "execution_count": null,
   "id": "d9cfbaca-ec19-4a14-aa29-e67daf9dcc69",
   "metadata": {},
   "outputs": [],
   "source": [
    "print(products)"
   ]
  },
  {
   "cell_type": "code",
   "execution_count": null,
   "id": "49606ccd-c1bb-45db-8ecb-a92588df3518",
   "metadata": {},
   "outputs": [],
   "source": [
    "print(products[0])"
   ]
  },
  {
   "cell_type": "code",
   "execution_count": null,
   "id": "f57fbaa3-263f-4648-8835-8ac83162249b",
   "metadata": {},
   "outputs": [],
   "source": [
    "print(type(products[0]))"
   ]
  },
  {
   "cell_type": "code",
   "execution_count": null,
   "id": "1fb7eedb-2eaa-4b25-adb8-5d8c04904057",
   "metadata": {},
   "outputs": [],
   "source": [
    "W przypadku wyciągania tylko jednej wartości"
   ]
  },
  {
   "cell_type": "code",
   "execution_count": null,
   "id": "e75ef71b-9f67-4ecb-b702-f5995b68682a",
   "metadata": {},
   "outputs": [],
   "source": [
    "products = Product.objects.all().values_list('title')\n",
    "products"
   ]
  },
  {
   "cell_type": "markdown",
   "id": "4ee74482-a11e-4d4c-8d53-731583029ebd",
   "metadata": {},
   "source": [
    "Wynik możemy spłaszczyć za pomocą parametru `flat`"
   ]
  },
  {
   "cell_type": "code",
   "execution_count": null,
   "id": "9e2a1659-9a5c-4532-88c8-cae2c8e94d1b",
   "metadata": {},
   "outputs": [],
   "source": [
    "products = Product.objects.all().values_list('title', flat=True)\n",
    "products"
   ]
  },
  {
   "cell_type": "markdown",
   "id": "6451dd8c-2bf7-4c22-b2cf-382c74c8a958",
   "metadata": {},
   "source": [
    "### 4. Optymazliacja zapytań za pomocą wyrażeń F "
   ]
  },
  {
   "cell_type": "markdown",
   "id": "edcc18fc-37f6-461e-a29b-e1fb953ac31a",
   "metadata": {},
   "source": [
    "**F expressions** pozwalają nam na wykonywanie operacji na wybranym wpisie z poziomu bazy danych, bez konieczności wcześniejszego wyjmowania tego wpisu z bazy."
   ]
  },
  {
   "cell_type": "markdown",
   "id": "c7558e3e-eb88-4623-990b-addde0e64396",
   "metadata": {},
   "source": [
    "O co chodzi?\n",
    "\n",
    "Zastanwómy się jak wygląda tradycyjny update na bazie."
   ]
  },
  {
   "cell_type": "code",
   "execution_count": null,
   "id": "1f56c79e-36e2-4cf7-9533-2d0b6e9f313c",
   "metadata": {},
   "outputs": [],
   "source": [
    "customer = Customer.objects.get(id=1)\n",
    "print(f\"Age before: {customer.age}\")\n",
    "customer.age += 1\n",
    "customer.save()"
   ]
  },
  {
   "cell_type": "code",
   "execution_count": null,
   "id": "65b9f3f5-7fd1-42a3-9f84-fc5ab31267c4",
   "metadata": {},
   "outputs": [],
   "source": [
    "customer = Customer.objects.get(id=1)\n",
    "print(f\"Age after: {customer.age}\")"
   ]
  },
  {
   "cell_type": "code",
   "execution_count": null,
   "id": "675e61e5-414c-4654-a761-4d04eed64bf7",
   "metadata": {},
   "outputs": [],
   "source": [
    "from django.db import connection\n",
    "\n",
    "connection.queries[-2:]"
   ]
  },
  {
   "cell_type": "markdown",
   "id": "98be2cb1-c4b7-4e39-be4b-381d60b447d7",
   "metadata": {},
   "source": [
    "Zwróć uwagę, że w celu zrobienia updatu musieliśmy wyciągnąć najpierw wpis (wpisy) z bazy, zaczytać go (je) do pamięci ram w pythonie, zrobić update a następnie zapisać do bazy. Nie wydaje się to być optymalnym rozwiązaniem. Po co to całe wczytywanie do pythona? Nie lepiej byłoby zrobić całość z poziomu bazy danych?\n",
    "\n",
    "Tylko jak?\n",
    "\n",
    "Za pomocą wyrażenia F."
   ]
  },
  {
   "cell_type": "code",
   "execution_count": null,
   "id": "76fe1a15-2689-4f2d-aece-518312335791",
   "metadata": {},
   "outputs": [],
   "source": [
    "from django.db.models import F\n",
    "\n",
    "F('name')+1"
   ]
  },
  {
   "cell_type": "markdown",
   "id": "9b5703f6-d2b4-4d5f-8c53-b8bcc13e8538",
   "metadata": {},
   "source": [
    "#### Wyrażenia F w metodzie update"
   ]
  },
  {
   "cell_type": "code",
   "execution_count": null,
   "id": "22ee778b-9753-43cf-99bb-72261acd1571",
   "metadata": {},
   "outputs": [],
   "source": [
    "customer = Customer.objects.get(id=1)\n",
    "customer.age = F('name')+1\n",
    "customer.save()"
   ]
  },
  {
   "cell_type": "code",
   "execution_count": null,
   "id": "427a9d82-c979-4c9a-80cb-8337f7b0f154",
   "metadata": {},
   "outputs": [],
   "source": [
    "connection.queries[-1]"
   ]
  },
  {
   "cell_type": "markdown",
   "id": "a556c96c-39da-4102-abd3-3e8e56dbd008",
   "metadata": {},
   "source": [
    "Nie ma to oczywiście większego sensu w przypadku updatu pojedynczego wpisu, ale gdyby update szedł po setkach wpisów to różnicę odczujemy wyraźnie."
   ]
  },
  {
   "cell_type": "markdown",
   "id": "850be263-5625-44a5-9a6a-195f6bfd3039",
   "metadata": {},
   "source": [
    "Jak wyglądałoby zapytanie, gdybyśmy chcieli wykonać ten update na wszysktich większej liczbie wpisów ?"
   ]
  },
  {
   "cell_type": "code",
   "execution_count": null,
   "id": "d9dc78e0-9bf3-4b1a-bd14-dfbc2b2315dc",
   "metadata": {},
   "outputs": [],
   "source": [
    "Customer.objects.update(age=F('age')+1)"
   ]
  },
  {
   "cell_type": "code",
   "execution_count": null,
   "id": "c1cbc15c-4671-4846-85c1-411a9caaef22",
   "metadata": {},
   "outputs": [],
   "source": [
    "connection.queries[-1]"
   ]
  },
  {
   "cell_type": "markdown",
   "id": "3438d089-82ff-49fe-b8dd-43bcd52608b7",
   "metadata": {},
   "source": [
    "Inne operatory matematyczne również zadziałają."
   ]
  },
  {
   "cell_type": "code",
   "execution_count": null,
   "id": "12bf8b97-d913-4443-b808-6caa8dabe067",
   "metadata": {},
   "outputs": [],
   "source": [
    "Customer.objects.update(age=F('age')**2 - F('age')/2)"
   ]
  },
  {
   "cell_type": "code",
   "execution_count": null,
   "id": "fcc1e1a9-7b8b-4dae-868c-85e176090977",
   "metadata": {},
   "outputs": [],
   "source": [
    "connection.queries[-1]"
   ]
  },
  {
   "cell_type": "markdown",
   "id": "98fe9a77-9091-42b5-ba9d-de77c8b74af3",
   "metadata": {},
   "source": [
    "Za pomocą wyrażeń F możemy odwoływać się do dowolnych pól z naszego modelu."
   ]
  },
  {
   "cell_type": "markdown",
   "id": "1b659006-ef8c-4c2e-83c9-3e589dd3cc48",
   "metadata": {},
   "source": [
    "#### Wyrażenia F w metodzie filter"
   ]
  },
  {
   "cell_type": "markdown",
   "id": "5936c692-cfcd-4f4e-9054-f1f6532b2a29",
   "metadata": {},
   "source": [
    "Wyrażenia F możemy też wykorzystywać w lookupach.\n",
    "\n",
    "Przyjmijmy hipotetycznie, że model Customer posiada kolumnę `expected_age`, a my chcemy wyświetlić tylko tych `customer`, których wartość w kolumnie `age` jest większy od wartości w kolumnie `expected_age`.\n",
    "\n",
    "<code>Customer.objects.filter(age__gt=???)</code>"
   ]
  },
  {
   "cell_type": "markdown",
   "id": "39b5a8eb-b27a-4b5e-ba18-d4764570e51e",
   "metadata": {},
   "source": [
    "W tym miejscu również świetnie sprawdzają się wyrażenia F.\n",
    "\n",
    "<code>Customer.objects.filter(age__gt=F('expected_age'))</code>"
   ]
  },
  {
   "cell_type": "markdown",
   "id": "d6860ffe-d09c-419a-ae15-789c2db3d8a7",
   "metadata": {},
   "source": [
    "Bez wyrażeń F trzeba byłoby wczytać wszystkie wartości do pythona, przeiterować się po nich i porównać w pythonie, a następnie na podstawie porównania porobić updaty do bazy. W zależności od liczby wpisów takie rozwiązanie może być nawet o kilka rzędów wielkości wolniejsze."
   ]
  }
 ],
 "metadata": {
  "kernelspec": {
   "display_name": "Python 3 (ipykernel)",
   "language": "python",
   "name": "python3"
  },
  "language_info": {
   "codemirror_mode": {
    "name": "ipython",
    "version": 3
   },
   "file_extension": ".py",
   "mimetype": "text/x-python",
   "name": "python",
   "nbconvert_exporter": "python",
   "pygments_lexer": "ipython3",
   "version": "3.12.8"
  }
 },
 "nbformat": 4,
 "nbformat_minor": 5
}
