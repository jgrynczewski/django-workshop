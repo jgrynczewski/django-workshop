{
 "cells": [
  {
   "cell_type": "markdown",
   "id": "9a3ccb7a",
   "metadata": {},
   "source": [
    "# Rozszerzenie relacji M2M"
   ]
  },
  {
   "cell_type": "markdown",
   "id": "aed61773",
   "metadata": {},
   "source": [
    "Czasami chcemy rozszerzyć informacje o jakimś powiazaniu. Może to być np. informacja o dacie złożenia zamówienia przez klienta (to będzie o2m, ponieważ klient może mieć wiele zamówień, jedno zamówienie może być przypisane tylko do jednego klienta) lub informacja o wysokości zakonktraktowanej gaży aktora za występ w filmie (to już będzie m2m). O ile w przypadku realcji o2o i o2m takie rozszerzenie poleg na dodaniu kolejnej kolumny w tabeli, w której umieściliśmy powiązanie, o tyle w przypadku relacji m2m dodatkową kolumnę umieszczamy w tabeli pośredniej. Tworząc relacje m2m w Django nie przejmowaliśmy się tabelą pośrednią. Wiemy, że Django wygeneruje taką tabelę automatycznie. Niestety, jeżeli chcemy rozszerzyć relacje m2m o dodatkową kolumnę to sami musimy już zdefniować tabelkę pośrednią i przypisać jej odpowiednie kolumny. W tym celu tworzymy tzw. model pośredni (ang. **intermediate model**)"
   ]
  },
  {
   "cell_type": "markdown",
   "id": "d2e5ea8d",
   "metadata": {},
   "source": [
    "W przykładzie (zaczerpniętym z dokumentacji Django) mamy dwie tabele - Person i Band.\n",
    "\n",
    "<code>\n",
    "class Person(models.Model):\n",
    "    name = models.CharField(max_length=128)\n",
    "</code>\n",
    "<code>\n",
    "    def __str__(self):\n",
    "        return self.name\n",
    "</code>\n",
    "\n",
    "\n",
    "<code>\n",
    "class Group(models.Model):\n",
    "    name = models.CharField(max_length=128)\n",
    "</code>\n",
    "<code>\n",
    "    def __str__(self):\n",
    "        return self.name\n",
    "</code>"
   ]
  },
  {
   "cell_type": "markdown",
   "id": "03f5d022",
   "metadata": {},
   "source": [
    "Osoba może wchodzić w skład wielu zespołów, a zespół może składać się z wielu osób. Dodajemy relacji m2m (po stronie zespołu).\n",
    "\n",
    "<code>\n",
    "class Person(models.Model):\n",
    "    name = models.CharField(max_length=128)\n",
    "</code>\n",
    "<code>\n",
    "    def __str__(self):\n",
    "        return self.name\n",
    "</code>\n",
    "\n",
    "\n",
    "<code>\n",
    "class Group(models.Model):\n",
    "    name = models.CharField(max_length=128)\n",
    "    members = models.ManyToManyField(Person)\n",
    "</code>\n",
    "<code>\n",
    "    def __str__(self):\n",
    "        return self.name\n",
    "</code>"
   ]
  },
  {
   "cell_type": "markdown",
   "id": "6dcf90a0",
   "metadata": {},
   "source": [
    "I teraz załóżmy, że dodatkowo chcemy przechować też informacje o dacie dołączenia osoby do zespołu. Taka informacja będzie dotyczyła powiązania (tzn. data dotyczyć będzie połączenia konkretnej osoby z konkretnym zespołem), a nie samej osoby lub samego zespołu. W tym celu defniujemy model pośredni, nazywamy go Membership i umieszczajamy w nim wszystkie potrzebne kolumny. Następnie za pomocą parametru `through`, w polu ManyToManyField wskazujemy, że to pole ManyToManyField realizowane jest poprzez model pośredni `Membership`."
   ]
  },
  {
   "cell_type": "markdown",
   "id": "68b888f2",
   "metadata": {},
   "source": [
    "### Pełny przykład\n",
    "\n",
    "<code>\n",
    "class Person(models.Model):\n",
    "    name = models.CharField(max_length=128)\n",
    "</code>\n",
    "<code>\n",
    "    def __str__(self):\n",
    "        return self.name\n",
    "</code>\n",
    "\n",
    "\n",
    "<code>\n",
    "class Group(models.Model):\n",
    "    name = models.CharField(max_length=128)\n",
    "    members = models.ManyToManyField(Person, , through='Membership')\n",
    "</code>\n",
    "<code>\n",
    "    def __str__(self):\n",
    "        return self.name\n",
    "</code>\n",
    "\n",
    "<code>\n",
    "class Membership(models.Model):\n",
    "    person = models.ForeignKey(Person, on_delete=models.CASCADE)\n",
    "    group = models.ForeignKey(Group, on_delete=models.CASCADE)\n",
    "    date_joined = models.DateField()\n",
    "</code>"
   ]
  },
  {
   "cell_type": "markdown",
   "id": "f1b49c1c",
   "metadata": {},
   "source": [
    "Jeżeli nie masz powyższego przykładu w swoim projekcie, przeklej go (do pliku models.py wybranej aplikacji), a następnie przygotuj i wykonaj migracje. W dalszej części notatnika będziemy korzystać ze wszystkich trzech modeli."
   ]
  },
  {
   "cell_type": "markdown",
   "id": "2deeec29",
   "metadata": {},
   "source": [
    "Standradowo, najpierw linijki, które pozwolą nam swobodnie korzystać z Django w notatniku Jupyter."
   ]
  },
  {
   "cell_type": "code",
   "execution_count": null,
   "id": "34af9308",
   "metadata": {},
   "outputs": [],
   "source": [
    "import os\n",
    "import django\n",
    "os.environ.setdefault('DJANGO_SETTINGS_MODULE', 'intro.settings')\n",
    "os.environ[\"DJANGO_ALLOW_ASYNC_UNSAFE\"] = \"true\"\n",
    "django.setup()"
   ]
  },
  {
   "cell_type": "markdown",
   "id": "14b41419",
   "metadata": {},
   "source": [
    "Importujemy potrzebne biblioteki i modele"
   ]
  },
  {
   "cell_type": "code",
   "execution_count": null,
   "id": "a4923676",
   "metadata": {},
   "outputs": [],
   "source": [
    "from datetime import date\n",
    "\n",
    "from orm_app.models import Person, Band, Membership"
   ]
  },
  {
   "cell_type": "markdown",
   "id": "153557cd",
   "metadata": {},
   "source": [
    "**C z CRUD**"
   ]
  },
  {
   "cell_type": "code",
   "execution_count": null,
   "id": "a059188c",
   "metadata": {},
   "outputs": [],
   "source": [
    "# Tworzymy wpisy Ringo Starr, John Lennon i Paul McCartney w tabeli Person i wpis The Beatles w tabeli Band\n",
    "ringo = Person.objects.create(name=\"Ringo Starr\")\n",
    "john = Person.objects.create(name=\"John Lennon\")\n",
    "paul = Person.objects.create(name=\"Paul McCartney\")\n",
    "\n",
    "beatles = Band.objects.create(name=\"The Beatles\")"
   ]
  },
  {
   "cell_type": "markdown",
   "id": "a9423b7b",
   "metadata": {},
   "source": [
    "Popatrzmy na utwrzone obiekty"
   ]
  },
  {
   "cell_type": "code",
   "execution_count": null,
   "id": "5859d298",
   "metadata": {},
   "outputs": [],
   "source": [
    "print(dir(beatles))  # widzimy menadżer powiązany - members"
   ]
  },
  {
   "cell_type": "code",
   "execution_count": null,
   "id": "a4159e3a",
   "metadata": {},
   "outputs": [],
   "source": [
    "print(dir(paul))  # widzimy menadżer powiązany - band_set"
   ]
  },
  {
   "cell_type": "markdown",
   "id": "4e62186c",
   "metadata": {},
   "source": [
    "W obu modelach poza poznanym już wcześniej menadżerem powiązanym mamy też menadżer powiązany do modelu pośredniego - membership_set"
   ]
  },
  {
   "cell_type": "markdown",
   "id": "3dfef7d3",
   "metadata": {},
   "source": [
    "Dodajemy powiązanie z zespołem"
   ]
  },
  {
   "cell_type": "code",
   "execution_count": null,
   "id": "997899b5",
   "metadata": {},
   "outputs": [],
   "source": [
    "# Version I (bezpośrednie użycie modelu pośredniego)\n",
    "m1 = Membership(person=ringo, band=beatles, date_joined=date(1962, 8, 16))\n",
    "m1.save()"
   ]
  },
  {
   "cell_type": "code",
   "execution_count": null,
   "id": "ad663218",
   "metadata": {},
   "outputs": [],
   "source": [
    "# Version II (użycie menadżera powiązanego modelu Band)\n",
    "beatles.members.add(john, through_defaults={'date_joined': date(1960, 8, 1)})\n",
    "\n",
    "# zwróć uwagę, że dane dla kolumn rozszerzających podajemy w postaci słownika przy użyciu parametru through_defaults, \n",
    "# w słowniku muszą znaleźć się wszystkie rozszerzające model pośredni dane."
   ]
  },
  {
   "cell_type": "code",
   "execution_count": null,
   "id": "03e3bfeb",
   "metadata": {},
   "outputs": [],
   "source": [
    "# Version III (użycie menadżera powiązanego modelu Person)\n",
    "paul.band_set.add(beatles, through_defaults={'date_joined': date(1960, 8, 1)})"
   ]
  },
  {
   "cell_type": "code",
   "execution_count": null,
   "id": "5fe470ae",
   "metadata": {},
   "outputs": [],
   "source": [
    "# Version IV (za pomocą metody create - jednoczesne utworzenie wpisu i dodanie powiązania)\n",
    "george = beatles.members.create(name=\"George Harrison\", through_defaults={'date_joined': date(1960, 8, 1)})\n",
    "\n",
    "# tutaj w parametrach trzeba podać wszystkie dane potrzebne do utworzenia wpisu w tabeli Person"
   ]
  },
  {
   "cell_type": "code",
   "execution_count": null,
   "id": "9dc84daa",
   "metadata": {},
   "outputs": [],
   "source": [
    "# Version V (za pomocą metody set - analogicznie jak w przypadk 'czystej' relacji m2m)\n",
    "beatles.members.set([john, paul, ringo], through_defaults={'date_joined': date(1960, 8, 1)})\n",
    "\n",
    "# metody set możemy użyć jeżeli wszystkie podane w liście wpisy mają te same wartości w kolumnach rozszerzających \n",
    "# model pośredni (czylie te same wartości w słowniku przypisywanym do parametru through_defaults)."
   ]
  },
  {
   "cell_type": "markdown",
   "id": "852658f0",
   "metadata": {},
   "source": [
    "**R z CRUD**"
   ]
  },
  {
   "cell_type": "markdown",
   "id": "05fa9748",
   "metadata": {},
   "source": [
    "Znajdź wszystkie zespoły, które w składzie posiadają osoby z wartością w kolumnie name zaczynającą się na 'Paul'"
   ]
  },
  {
   "cell_type": "code",
   "execution_count": null,
   "id": "2aceec95",
   "metadata": {},
   "outputs": [],
   "source": [
    "Band.objects.filter(members__name__startswith='Paul')"
   ]
  },
  {
   "cell_type": "markdown",
   "id": "c997a1d2",
   "metadata": {},
   "source": [
    "Znajdź wszystkie osoby, które przyłączyły się do zespołu 'The Beatles' po 1 Jan 1961"
   ]
  },
  {
   "cell_type": "code",
   "execution_count": null,
   "id": "e731f9e0",
   "metadata": {},
   "outputs": [],
   "source": [
    "Person.objects.filter(band__name='The Beatles', membership__date_joined__gt=date(1961, 1, 1))"
   ]
  },
  {
   "cell_type": "markdown",
   "id": "3179a5a5",
   "metadata": {},
   "source": [
    "A jak zapytać się o informacje uzupełniającą (w naszym przypadku o datę przyłączenia się do zespołu)? W którym roku do zespołu 'The Beatles' przyłączył się Ringo Starr?"
   ]
  },
  {
   "cell_type": "code",
   "execution_count": null,
   "id": "6fcc30f3",
   "metadata": {},
   "outputs": [],
   "source": [
    "# Version I (przez bezpośrednie odpytanie modelu pośredniego)\n",
    "ringos_membership = Membership.objects.get(band=beatles, person=ringo)\n",
    "ringos_membership.date_joined"
   ]
  },
  {
   "cell_type": "code",
   "execution_count": null,
   "id": "a73a1a8a",
   "metadata": {},
   "outputs": [],
   "source": [
    "# Version II (za pomocą menadżera powiązanego z modelem pośrednim z poziomu modelu Person)\n",
    "ringos_membership = ringo.membership_set.get(band=beatles)\n",
    "ringos_membership.date_joined"
   ]
  },
  {
   "cell_type": "code",
   "execution_count": null,
   "id": "279dccb3",
   "metadata": {},
   "outputs": [],
   "source": [
    "# Version III (za pomocą menadżera powiązanego z modelem pośrednim z poziomu modelu Band)\n",
    "ringos_membership = beatles.membership_set.get(person=ringo)\n",
    "ringos_membership.date_joined"
   ]
  },
  {
   "cell_type": "markdown",
   "id": "c72a85b6",
   "metadata": {},
   "source": [
    "**U z CRUD**"
   ]
  },
  {
   "cell_type": "markdown",
   "id": "c4d7a6fd",
   "metadata": {},
   "source": [
    "**D z CRUD**"
   ]
  },
  {
   "cell_type": "markdown",
   "id": "7a49a201",
   "metadata": {},
   "source": [
    "W jaki sposób możemy usuwać powiązania?"
   ]
  },
  {
   "cell_type": "code",
   "execution_count": null,
   "id": "bf50c016",
   "metadata": {},
   "outputs": [],
   "source": [
    "# Version I (bezpośrednio z modelu pośredniego)\n",
    "ringos_membership = Membership.objects.get(band=beatles, person=ringo)\n",
    "ringos_membership.delete()"
   ]
  },
  {
   "cell_type": "code",
   "execution_count": null,
   "id": "35f39384",
   "metadata": {},
   "outputs": [],
   "source": [
    "# Version II (za pomocą metody remove menadżera powiązanego modelu Band)\n",
    "beatles.members.remove(john)\n",
    "\n",
    "# metoda remove zwraca None"
   ]
  },
  {
   "cell_type": "code",
   "execution_count": null,
   "id": "6827fc0f",
   "metadata": {},
   "outputs": [],
   "source": [
    "# Version III (za pomocą metody remove menadżera powiązanego modelu Person)\n",
    "paul.band_set.remove(beatles)"
   ]
  },
  {
   "cell_type": "markdown",
   "id": "34dbb5f4-b0ee-4154-b2c8-0b01c8ee3d84",
   "metadata": {},
   "source": [
    "**Q-objects** pozwalają nam na:\n",
    "- składania operacji logicznych (operatory `or`, `and` i `not`)\n",
    "- enkapsulację złożonych lookupów"
   ]
  },
  {
   "cell_type": "markdown",
   "id": "afd95d68-83a3-4760-9f3b-c4088abf53f4",
   "metadata": {},
   "source": [
    "Koniunkcję warunków (`and`) w metodach takich jak `filter` możemy uzyskać poprzez wypisanie poszczególnych warunków po przecinku."
   ]
  },
  {
   "cell_type": "code",
   "execution_count": null,
   "id": "fdfe8c7a-b86a-4e21-a58a-defb64efe2c3",
   "metadata": {},
   "outputs": [],
   "source": [
    "# Koniunkcja (and)\n",
    "result = Customer.objects.filter(name__endswith='2', age__gte=40)\n",
    "result"
   ]
  },
  {
   "cell_type": "markdown",
   "id": "93428205-5385-495f-aa20-673792314b60",
   "metadata": {},
   "source": [
    "Z dokładnością do tego, że nie możemy dwa razy użyć parametru o tej samej nazwie."
   ]
  },
  {
   "cell_type": "code",
   "execution_count": null,
   "id": "77b6d57f-6496-404f-87de-0dc5dff1c2cd",
   "metadata": {},
   "outputs": [],
   "source": [
    "# nie można dwa razy użyć tego samego warunku\n",
    "result = Customer.objects.filter(name__endswith='2', name__endswith='3')\n",
    "result"
   ]
  },
  {
   "cell_type": "markdown",
   "id": "f7082272-24a8-47a2-9ffb-a8d65e7e79a2",
   "metadata": {},
   "source": [
    "Alternatywę warunków (`or`) możemy uzyskać poprzez użycie operatora `|` na rozdzielnych querysetach."
   ]
  },
  {
   "cell_type": "code",
   "execution_count": null,
   "id": "b85a98a5-f70c-4364-b2b0-0db9ee7f7d8b",
   "metadata": {},
   "outputs": [],
   "source": [
    "# Alternatywa (or)\n",
    "result = Customer.objects.filter(name__endswith='2') | Customer.objects.filter(age__gte=40)\n",
    "result"
   ]
  },
  {
   "cell_type": "markdown",
   "id": "ebb7133f-7c12-49e4-a984-fe57ff063cc9",
   "metadata": {},
   "source": [
    "Zaprzeczenia warunków w bezpośredni sposób nie otrzymamy. Możemy kombinować z użyciem metod przeciwnych, na przykład zamiast metody `filter` możemy użyć metody `exclude`, ale bezpośredniej metody nie ma. Przynajmniej dopóki nie użyjemy obiektu Q."
   ]
  },
  {
   "cell_type": "markdown",
   "id": "23d3b2e6-4888-4461-84b6-7e90152c734f",
   "metadata": {},
   "source": [
    "Obiekt Q służy do enkapsulacji pojedynczego lookupu, ew. grupy lookupów."
   ]
  },
  {
   "cell_type": "code",
   "execution_count": null,
   "id": "bbc2d730-c86b-4aff-aeec-337a9bed5daf",
   "metadata": {},
   "outputs": [],
   "source": [
    "from django.db.models import Q"
   ]
  },
  {
   "cell_type": "code",
   "execution_count": null,
   "id": "d5deb1ca-f18f-4730-a031-2cd888edf658",
   "metadata": {},
   "outputs": [],
   "source": [
    "Q(name__endswith='2')"
   ]
  },
  {
   "cell_type": "markdown",
   "id": "d447b3a2-ffef-463c-b427-aed0cffed3b5",
   "metadata": {},
   "source": [
    "Następnie taki pojedynczy lookup, zamknięty w obiekcie Q może być składany z innym obiektem Q za pomocą operatorów `&` (and), `|` (or) ew. `^` (not)."
   ]
  },
  {
   "cell_type": "code",
   "execution_count": null,
   "id": "7fc7c05b-4fb1-437e-afdd-df62d0b4a0a5",
   "metadata": {},
   "outputs": [],
   "source": [
    "Q(name__endswith='2') & Q(age__gte=40)"
   ]
  },
  {
   "cell_type": "code",
   "execution_count": null,
   "id": "945a8bab-bdaa-4294-a232-977979d95df1",
   "metadata": {},
   "outputs": [],
   "source": [
    "Q(age__gte=20) & Q(age__gte=40)"
   ]
  },
  {
   "cell_type": "code",
   "execution_count": null,
   "id": "f67cce77-3c1f-4401-ab19-7d0f6c5bc77f",
   "metadata": {},
   "outputs": [],
   "source": [
    "~(Q(name__endswith='2') & Q(age__gte=40))"
   ]
  },
  {
   "cell_type": "markdown",
   "id": "f391b56a-5903-4de3-88f8-e4d79254a87c",
   "metadata": {},
   "source": [
    "i nie ma ograniczenia na powtórzającą się nazwę parametru"
   ]
  },
  {
   "cell_type": "code",
   "execution_count": null,
   "id": "bec9ef62-4ccb-4925-9872-15f2829c1816",
   "metadata": {},
   "outputs": [],
   "source": [
    "Q(name__endswith='2') | Q(age__gte=40)"
   ]
  },
  {
   "cell_type": "markdown",
   "id": "9877bde9-ce47-4a08-b8b9-d9a297f562e9",
   "metadata": {},
   "source": [
    "Otrzymane złożenie możemy wykorzystać w dowolnej z metod manadżera, która wykorzystuje lookupy."
   ]
  },
  {
   "cell_type": "code",
   "execution_count": null,
   "id": "83c3255e-adc0-4d23-b9c8-e45e2e8fe41d",
   "metadata": {},
   "outputs": [],
   "source": [
    "# Koniunkcja (and) z użyciem obiektów Q - operator &\n",
    "result = Customer.objects.filter(Q(name__endswith='2') & Q(age__gte=40))\n",
    "result"
   ]
  },
  {
   "cell_type": "code",
   "execution_count": null,
   "id": "d1907e60-c050-4fbb-8d8d-12777e4480a6",
   "metadata": {},
   "outputs": [],
   "source": [
    "# Alternatywa (or) z użyciem obiektów Q - operator |\n",
    "result = Customer.objects.filter(Q(name__endswith='2') | Q(age__gte=40))\n",
    "result"
   ]
  },
  {
   "cell_type": "code",
   "execution_count": null,
   "id": "f60a05a2-d435-4643-86aa-bb559904847f",
   "metadata": {},
   "outputs": [],
   "source": [
    "# Zaprzeczenie (not) z użyciem obiektów Q - operator ~\n",
    "result = Customer.objects.filter(~(Q(name__endswith='2') | Q(age__gte=40)))\n",
    "result"
   ]
  },
  {
   "cell_type": "markdown",
   "id": "34303880-8571-4fe9-b9fa-ee58ab568a1e",
   "metadata": {},
   "source": [
    "Enkapsulacja lookupów pozwala nam na tworzenie złożonych, ale wciąż czytelnych zapytań."
   ]
  },
  {
   "cell_type": "code",
   "execution_count": null,
   "id": "0119ce60-fd29-478b-93bc-74b0e5ca20e7",
   "metadata": {},
   "outputs": [],
   "source": [
    "lt_15_or_gt_30 = Q(age__lt=15) | Q(age__gt=30)\n",
    "endswith_3 = Q(name__endswith='3')\n",
    "\n",
    "Customer.objects.exclude(lt_15_or_gt_30 & endswith_3)"
   ]
  },
  {
   "cell_type": "code",
   "execution_count": null,
   "id": "8538c404-47b1-4699-ac27-594a063483d2",
   "metadata": {},
   "outputs": [],
   "source": []
  }
 ],
 "metadata": {
  "kernelspec": {
   "display_name": "Python 3 (ipykernel)",
   "language": "python",
   "name": "python3"
  },
  "language_info": {
   "codemirror_mode": {
    "name": "ipython",
    "version": 3
   },
   "file_extension": ".py",
   "mimetype": "text/x-python",
   "name": "python",
   "nbconvert_exporter": "python",
   "pygments_lexer": "ipython3",
   "version": "3.12.8"
  }
 },
 "nbformat": 4,
 "nbformat_minor": 5
}
