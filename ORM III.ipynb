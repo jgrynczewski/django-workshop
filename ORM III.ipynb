{
 "cells": [
  {
   "cell_type": "markdown",
   "id": "9a3ccb7a",
   "metadata": {},
   "source": [
    "# Django ORM - Instrukcje DML w relacjach"
   ]
  },
  {
   "cell_type": "markdown",
   "id": "aed61773",
   "metadata": {},
   "source": [
    "W bazach relacyjnych tabele mogą być powiązane ze sobą relacjami. W zależności od natury tego powiązania wyróżniamy kilka typów relacji. W Django ORM możemy wyróżnić trzy podstawowe typy relacji: jeden-do-jednego, jeden-do-wielu i wiele-do-wielu. Każda z tych relacji posiada w Django ORM swój odpowiednik w postaci pola modelu. I tak:\n",
    "* **OneToOneField** to pole odpowiadające relacji jeden do jednego\n",
    "* **ForeignKey** to pole odpowiadające relacji jeden do wielu\n",
    "* **ManyToManyField** to pole odpowiadające relacji wiele do wielu\n",
    "\n",
    "Omówmy je po kolei."
   ]
  },
  {
   "cell_type": "markdown",
   "id": "0e19c62b",
   "metadata": {},
   "source": [
    "## OneToOneField"
   ]
  },
  {
   "cell_type": "markdown",
   "id": "0cd54b30",
   "metadata": {},
   "source": [
    "Relacja jeden do jednego występuje w przypadku kiedy rekord jednej tabeli może być powiązany z jednym i tylko jednym wpisem drugiej tabeli. Przykładem takiej relacji może być tabela stolica oraz tabela państwo. Warszawa jest stolicą tylko jednego państwa - Polski, Polska ma przypisaną tylko jedną stolicę - Warszawę.\n",
    "\"Mówimy Warszawa myślimy Polska, mówimy Polska myślimy Warszawa\". Relacja jest symetryczna dlatego nie ma znaczenia, w której z tabelek (stolica, czy państwo) umieścimy kolumnę dla tej relacji."
   ]
  },
  {
   "cell_type": "markdown",
   "id": "7afe0792",
   "metadata": {},
   "source": [
    "**Definicje modeli**\n",
    "\n",
    "W modelach mamy dwie klasy: Country i Capitol. Relacje OneToOneField umieściliśmy po stronie modelu Country. Atrybut przechowujący relację nazwaliśmy capitol.\n",
    "\n",
    "<code>class Country(models.Model):\n",
    "    name = models.CharField(max_length=64)\n",
    "    capital = models.OneToOneField('Capital', on_delete=models.CASCADE)\n",
    "</code>\n",
    "\n",
    "<code>class Capital(models.Model):\n",
    "    name = models.CharField(max_length=64)\n",
    "</code>"
   ]
  },
  {
   "cell_type": "markdown",
   "id": "d35b5423",
   "metadata": {},
   "source": [
    "### C z CRUD"
   ]
  },
  {
   "cell_type": "code",
   "execution_count": 1,
   "id": "4617eb31",
   "metadata": {},
   "outputs": [],
   "source": [
    "import os\n",
    "import django\n",
    "os.environ.setdefault('DJANGO_SETTINGS_MODULE', 'intro.settings')\n",
    "os.environ[\"DJANGO_ALLOW_ASYNC_UNSAFE\"] = \"true\"\n",
    "django.setup()"
   ]
  },
  {
   "cell_type": "code",
   "execution_count": 2,
   "id": "6ae52664",
   "metadata": {},
   "outputs": [],
   "source": [
    "from orm_app.models import Country, Capital"
   ]
  },
  {
   "cell_type": "code",
   "execution_count": 3,
   "id": "a245b89f",
   "metadata": {},
   "outputs": [],
   "source": [
    "# 1. Tworzymy wpis w tabeli Capital\n",
    "warsaw = Capital.objects.create(name=\"Warsaw\")"
   ]
  },
  {
   "cell_type": "code",
   "execution_count": 4,
   "id": "ca41b762",
   "metadata": {},
   "outputs": [
    {
     "ename": "IntegrityError",
     "evalue": "NOT NULL constraint failed: orm_app_country.capital_id",
     "output_type": "error",
     "traceback": [
      "\u001b[1;31m---------------------------------------------------------------------------\u001b[0m",
      "\u001b[1;31mIntegrityError\u001b[0m                            Traceback (most recent call last)",
      "File \u001b[1;32m~\\PycharmProjects\\django-workshop\\.venv\\Lib\\site-packages\\django\\db\\backends\\utils.py:105\u001b[0m, in \u001b[0;36mCursorWrapper._execute\u001b[1;34m(self, sql, params, *ignored_wrapper_args)\u001b[0m\n\u001b[0;32m    104\u001b[0m \u001b[38;5;28;01melse\u001b[39;00m:\n\u001b[1;32m--> 105\u001b[0m     \u001b[38;5;28;01mreturn\u001b[39;00m \u001b[38;5;28;43mself\u001b[39;49m\u001b[38;5;241;43m.\u001b[39;49m\u001b[43mcursor\u001b[49m\u001b[38;5;241;43m.\u001b[39;49m\u001b[43mexecute\u001b[49m\u001b[43m(\u001b[49m\u001b[43msql\u001b[49m\u001b[43m,\u001b[49m\u001b[43m \u001b[49m\u001b[43mparams\u001b[49m\u001b[43m)\u001b[49m\n",
      "File \u001b[1;32m~\\PycharmProjects\\django-workshop\\.venv\\Lib\\site-packages\\django\\db\\backends\\sqlite3\\base.py:354\u001b[0m, in \u001b[0;36mSQLiteCursorWrapper.execute\u001b[1;34m(self, query, params)\u001b[0m\n\u001b[0;32m    353\u001b[0m query \u001b[38;5;241m=\u001b[39m \u001b[38;5;28mself\u001b[39m\u001b[38;5;241m.\u001b[39mconvert_query(query, param_names\u001b[38;5;241m=\u001b[39mparam_names)\n\u001b[1;32m--> 354\u001b[0m \u001b[38;5;28;01mreturn\u001b[39;00m \u001b[38;5;28;43msuper\u001b[39;49m\u001b[43m(\u001b[49m\u001b[43m)\u001b[49m\u001b[38;5;241;43m.\u001b[39;49m\u001b[43mexecute\u001b[49m\u001b[43m(\u001b[49m\u001b[43mquery\u001b[49m\u001b[43m,\u001b[49m\u001b[43m \u001b[49m\u001b[43mparams\u001b[49m\u001b[43m)\u001b[49m\n",
      "\u001b[1;31mIntegrityError\u001b[0m: NOT NULL constraint failed: orm_app_country.capital_id",
      "\nThe above exception was the direct cause of the following exception:\n",
      "\u001b[1;31mIntegrityError\u001b[0m                            Traceback (most recent call last)",
      "Cell \u001b[1;32mIn[4], line 2\u001b[0m\n\u001b[0;32m      1\u001b[0m \u001b[38;5;66;03m# 2. Tworzymy wpis tabeli Country\u001b[39;00m\n\u001b[1;32m----> 2\u001b[0m poland \u001b[38;5;241m=\u001b[39m \u001b[43mCountry\u001b[49m\u001b[38;5;241;43m.\u001b[39;49m\u001b[43mobjects\u001b[49m\u001b[38;5;241;43m.\u001b[39;49m\u001b[43mcreate\u001b[49m\u001b[43m(\u001b[49m\u001b[43mname\u001b[49m\u001b[38;5;241;43m=\u001b[39;49m\u001b[38;5;124;43m\"\u001b[39;49m\u001b[38;5;124;43mPoland\u001b[39;49m\u001b[38;5;124;43m\"\u001b[39;49m\u001b[43m)\u001b[49m\n",
      "File \u001b[1;32m~\\PycharmProjects\\django-workshop\\.venv\\Lib\\site-packages\\django\\db\\models\\manager.py:87\u001b[0m, in \u001b[0;36mBaseManager._get_queryset_methods.<locals>.create_method.<locals>.manager_method\u001b[1;34m(self, *args, **kwargs)\u001b[0m\n\u001b[0;32m     85\u001b[0m \u001b[38;5;129m@wraps\u001b[39m(method)\n\u001b[0;32m     86\u001b[0m \u001b[38;5;28;01mdef\u001b[39;00m \u001b[38;5;21mmanager_method\u001b[39m(\u001b[38;5;28mself\u001b[39m, \u001b[38;5;241m*\u001b[39margs, \u001b[38;5;241m*\u001b[39m\u001b[38;5;241m*\u001b[39mkwargs):\n\u001b[1;32m---> 87\u001b[0m     \u001b[38;5;28;01mreturn\u001b[39;00m \u001b[38;5;28;43mgetattr\u001b[39;49m\u001b[43m(\u001b[49m\u001b[38;5;28;43mself\u001b[39;49m\u001b[38;5;241;43m.\u001b[39;49m\u001b[43mget_queryset\u001b[49m\u001b[43m(\u001b[49m\u001b[43m)\u001b[49m\u001b[43m,\u001b[49m\u001b[43m \u001b[49m\u001b[43mname\u001b[49m\u001b[43m)\u001b[49m\u001b[43m(\u001b[49m\u001b[38;5;241;43m*\u001b[39;49m\u001b[43margs\u001b[49m\u001b[43m,\u001b[49m\u001b[43m \u001b[49m\u001b[38;5;241;43m*\u001b[39;49m\u001b[38;5;241;43m*\u001b[39;49m\u001b[43mkwargs\u001b[49m\u001b[43m)\u001b[49m\n",
      "File \u001b[1;32m~\\PycharmProjects\\django-workshop\\.venv\\Lib\\site-packages\\django\\db\\models\\query.py:679\u001b[0m, in \u001b[0;36mQuerySet.create\u001b[1;34m(self, **kwargs)\u001b[0m\n\u001b[0;32m    677\u001b[0m obj \u001b[38;5;241m=\u001b[39m \u001b[38;5;28mself\u001b[39m\u001b[38;5;241m.\u001b[39mmodel(\u001b[38;5;241m*\u001b[39m\u001b[38;5;241m*\u001b[39mkwargs)\n\u001b[0;32m    678\u001b[0m \u001b[38;5;28mself\u001b[39m\u001b[38;5;241m.\u001b[39m_for_write \u001b[38;5;241m=\u001b[39m \u001b[38;5;28;01mTrue\u001b[39;00m\n\u001b[1;32m--> 679\u001b[0m \u001b[43mobj\u001b[49m\u001b[38;5;241;43m.\u001b[39;49m\u001b[43msave\u001b[49m\u001b[43m(\u001b[49m\u001b[43mforce_insert\u001b[49m\u001b[38;5;241;43m=\u001b[39;49m\u001b[38;5;28;43;01mTrue\u001b[39;49;00m\u001b[43m,\u001b[49m\u001b[43m \u001b[49m\u001b[43musing\u001b[49m\u001b[38;5;241;43m=\u001b[39;49m\u001b[38;5;28;43mself\u001b[39;49m\u001b[38;5;241;43m.\u001b[39;49m\u001b[43mdb\u001b[49m\u001b[43m)\u001b[49m\n\u001b[0;32m    680\u001b[0m \u001b[38;5;28;01mreturn\u001b[39;00m obj\n",
      "File \u001b[1;32m~\\PycharmProjects\\django-workshop\\.venv\\Lib\\site-packages\\django\\db\\models\\base.py:892\u001b[0m, in \u001b[0;36mModel.save\u001b[1;34m(self, force_insert, force_update, using, update_fields, *args)\u001b[0m\n\u001b[0;32m    889\u001b[0m     \u001b[38;5;28;01mif\u001b[39;00m loaded_fields:\n\u001b[0;32m    890\u001b[0m         update_fields \u001b[38;5;241m=\u001b[39m \u001b[38;5;28mfrozenset\u001b[39m(loaded_fields)\n\u001b[1;32m--> 892\u001b[0m \u001b[38;5;28;43mself\u001b[39;49m\u001b[38;5;241;43m.\u001b[39;49m\u001b[43msave_base\u001b[49m\u001b[43m(\u001b[49m\n\u001b[0;32m    893\u001b[0m \u001b[43m    \u001b[49m\u001b[43musing\u001b[49m\u001b[38;5;241;43m=\u001b[39;49m\u001b[43musing\u001b[49m\u001b[43m,\u001b[49m\n\u001b[0;32m    894\u001b[0m \u001b[43m    \u001b[49m\u001b[43mforce_insert\u001b[49m\u001b[38;5;241;43m=\u001b[39;49m\u001b[43mforce_insert\u001b[49m\u001b[43m,\u001b[49m\n\u001b[0;32m    895\u001b[0m \u001b[43m    \u001b[49m\u001b[43mforce_update\u001b[49m\u001b[38;5;241;43m=\u001b[39;49m\u001b[43mforce_update\u001b[49m\u001b[43m,\u001b[49m\n\u001b[0;32m    896\u001b[0m \u001b[43m    \u001b[49m\u001b[43mupdate_fields\u001b[49m\u001b[38;5;241;43m=\u001b[39;49m\u001b[43mupdate_fields\u001b[49m\u001b[43m,\u001b[49m\n\u001b[0;32m    897\u001b[0m \u001b[43m\u001b[49m\u001b[43m)\u001b[49m\n",
      "File \u001b[1;32m~\\PycharmProjects\\django-workshop\\.venv\\Lib\\site-packages\\django\\db\\models\\base.py:998\u001b[0m, in \u001b[0;36mModel.save_base\u001b[1;34m(self, raw, force_insert, force_update, using, update_fields)\u001b[0m\n\u001b[0;32m    994\u001b[0m         force_insert \u001b[38;5;241m=\u001b[39m \u001b[38;5;28mself\u001b[39m\u001b[38;5;241m.\u001b[39m_validate_force_insert(force_insert)\n\u001b[0;32m    995\u001b[0m         parent_inserted \u001b[38;5;241m=\u001b[39m \u001b[38;5;28mself\u001b[39m\u001b[38;5;241m.\u001b[39m_save_parents(\n\u001b[0;32m    996\u001b[0m             \u001b[38;5;28mcls\u001b[39m, using, update_fields, force_insert\n\u001b[0;32m    997\u001b[0m         )\n\u001b[1;32m--> 998\u001b[0m     updated \u001b[38;5;241m=\u001b[39m \u001b[38;5;28;43mself\u001b[39;49m\u001b[38;5;241;43m.\u001b[39;49m\u001b[43m_save_table\u001b[49m\u001b[43m(\u001b[49m\n\u001b[0;32m    999\u001b[0m \u001b[43m        \u001b[49m\u001b[43mraw\u001b[49m\u001b[43m,\u001b[49m\n\u001b[0;32m   1000\u001b[0m \u001b[43m        \u001b[49m\u001b[38;5;28;43mcls\u001b[39;49m\u001b[43m,\u001b[49m\n\u001b[0;32m   1001\u001b[0m \u001b[43m        \u001b[49m\u001b[43mforce_insert\u001b[49m\u001b[43m \u001b[49m\u001b[38;5;129;43;01mor\u001b[39;49;00m\u001b[43m \u001b[49m\u001b[43mparent_inserted\u001b[49m\u001b[43m,\u001b[49m\n\u001b[0;32m   1002\u001b[0m \u001b[43m        \u001b[49m\u001b[43mforce_update\u001b[49m\u001b[43m,\u001b[49m\n\u001b[0;32m   1003\u001b[0m \u001b[43m        \u001b[49m\u001b[43musing\u001b[49m\u001b[43m,\u001b[49m\n\u001b[0;32m   1004\u001b[0m \u001b[43m        \u001b[49m\u001b[43mupdate_fields\u001b[49m\u001b[43m,\u001b[49m\n\u001b[0;32m   1005\u001b[0m \u001b[43m    \u001b[49m\u001b[43m)\u001b[49m\n\u001b[0;32m   1006\u001b[0m \u001b[38;5;66;03m# Store the database on which the object was saved\u001b[39;00m\n\u001b[0;32m   1007\u001b[0m \u001b[38;5;28mself\u001b[39m\u001b[38;5;241m.\u001b[39m_state\u001b[38;5;241m.\u001b[39mdb \u001b[38;5;241m=\u001b[39m using\n",
      "File \u001b[1;32m~\\PycharmProjects\\django-workshop\\.venv\\Lib\\site-packages\\django\\db\\models\\base.py:1161\u001b[0m, in \u001b[0;36mModel._save_table\u001b[1;34m(self, raw, cls, force_insert, force_update, using, update_fields)\u001b[0m\n\u001b[0;32m   1155\u001b[0m fields \u001b[38;5;241m=\u001b[39m [\n\u001b[0;32m   1156\u001b[0m     f\n\u001b[0;32m   1157\u001b[0m     \u001b[38;5;28;01mfor\u001b[39;00m f \u001b[38;5;129;01min\u001b[39;00m meta\u001b[38;5;241m.\u001b[39mlocal_concrete_fields\n\u001b[0;32m   1158\u001b[0m     \u001b[38;5;28;01mif\u001b[39;00m \u001b[38;5;129;01mnot\u001b[39;00m f\u001b[38;5;241m.\u001b[39mgenerated \u001b[38;5;129;01mand\u001b[39;00m (pk_set \u001b[38;5;129;01mor\u001b[39;00m f \u001b[38;5;129;01mis\u001b[39;00m \u001b[38;5;129;01mnot\u001b[39;00m meta\u001b[38;5;241m.\u001b[39mauto_field)\n\u001b[0;32m   1159\u001b[0m ]\n\u001b[0;32m   1160\u001b[0m returning_fields \u001b[38;5;241m=\u001b[39m meta\u001b[38;5;241m.\u001b[39mdb_returning_fields\n\u001b[1;32m-> 1161\u001b[0m results \u001b[38;5;241m=\u001b[39m \u001b[38;5;28;43mself\u001b[39;49m\u001b[38;5;241;43m.\u001b[39;49m\u001b[43m_do_insert\u001b[49m\u001b[43m(\u001b[49m\n\u001b[0;32m   1162\u001b[0m \u001b[43m    \u001b[49m\u001b[38;5;28;43mcls\u001b[39;49m\u001b[38;5;241;43m.\u001b[39;49m\u001b[43m_base_manager\u001b[49m\u001b[43m,\u001b[49m\u001b[43m \u001b[49m\u001b[43musing\u001b[49m\u001b[43m,\u001b[49m\u001b[43m \u001b[49m\u001b[43mfields\u001b[49m\u001b[43m,\u001b[49m\u001b[43m \u001b[49m\u001b[43mreturning_fields\u001b[49m\u001b[43m,\u001b[49m\u001b[43m \u001b[49m\u001b[43mraw\u001b[49m\n\u001b[0;32m   1163\u001b[0m \u001b[43m\u001b[49m\u001b[43m)\u001b[49m\n\u001b[0;32m   1164\u001b[0m \u001b[38;5;28;01mif\u001b[39;00m results:\n\u001b[0;32m   1165\u001b[0m     \u001b[38;5;28;01mfor\u001b[39;00m value, field \u001b[38;5;129;01min\u001b[39;00m \u001b[38;5;28mzip\u001b[39m(results[\u001b[38;5;241m0\u001b[39m], returning_fields):\n",
      "File \u001b[1;32m~\\PycharmProjects\\django-workshop\\.venv\\Lib\\site-packages\\django\\db\\models\\base.py:1202\u001b[0m, in \u001b[0;36mModel._do_insert\u001b[1;34m(self, manager, using, fields, returning_fields, raw)\u001b[0m\n\u001b[0;32m   1197\u001b[0m \u001b[38;5;28;01mdef\u001b[39;00m \u001b[38;5;21m_do_insert\u001b[39m(\u001b[38;5;28mself\u001b[39m, manager, using, fields, returning_fields, raw):\n\u001b[0;32m   1198\u001b[0m \u001b[38;5;250m    \u001b[39m\u001b[38;5;124;03m\"\"\"\u001b[39;00m\n\u001b[0;32m   1199\u001b[0m \u001b[38;5;124;03m    Do an INSERT. If returning_fields is defined then this method should\u001b[39;00m\n\u001b[0;32m   1200\u001b[0m \u001b[38;5;124;03m    return the newly created data for the model.\u001b[39;00m\n\u001b[0;32m   1201\u001b[0m \u001b[38;5;124;03m    \"\"\"\u001b[39;00m\n\u001b[1;32m-> 1202\u001b[0m     \u001b[38;5;28;01mreturn\u001b[39;00m \u001b[43mmanager\u001b[49m\u001b[38;5;241;43m.\u001b[39;49m\u001b[43m_insert\u001b[49m\u001b[43m(\u001b[49m\n\u001b[0;32m   1203\u001b[0m \u001b[43m        \u001b[49m\u001b[43m[\u001b[49m\u001b[38;5;28;43mself\u001b[39;49m\u001b[43m]\u001b[49m\u001b[43m,\u001b[49m\n\u001b[0;32m   1204\u001b[0m \u001b[43m        \u001b[49m\u001b[43mfields\u001b[49m\u001b[38;5;241;43m=\u001b[39;49m\u001b[43mfields\u001b[49m\u001b[43m,\u001b[49m\n\u001b[0;32m   1205\u001b[0m \u001b[43m        \u001b[49m\u001b[43mreturning_fields\u001b[49m\u001b[38;5;241;43m=\u001b[39;49m\u001b[43mreturning_fields\u001b[49m\u001b[43m,\u001b[49m\n\u001b[0;32m   1206\u001b[0m \u001b[43m        \u001b[49m\u001b[43musing\u001b[49m\u001b[38;5;241;43m=\u001b[39;49m\u001b[43musing\u001b[49m\u001b[43m,\u001b[49m\n\u001b[0;32m   1207\u001b[0m \u001b[43m        \u001b[49m\u001b[43mraw\u001b[49m\u001b[38;5;241;43m=\u001b[39;49m\u001b[43mraw\u001b[49m\u001b[43m,\u001b[49m\n\u001b[0;32m   1208\u001b[0m \u001b[43m    \u001b[49m\u001b[43m)\u001b[49m\n",
      "File \u001b[1;32m~\\PycharmProjects\\django-workshop\\.venv\\Lib\\site-packages\\django\\db\\models\\manager.py:87\u001b[0m, in \u001b[0;36mBaseManager._get_queryset_methods.<locals>.create_method.<locals>.manager_method\u001b[1;34m(self, *args, **kwargs)\u001b[0m\n\u001b[0;32m     85\u001b[0m \u001b[38;5;129m@wraps\u001b[39m(method)\n\u001b[0;32m     86\u001b[0m \u001b[38;5;28;01mdef\u001b[39;00m \u001b[38;5;21mmanager_method\u001b[39m(\u001b[38;5;28mself\u001b[39m, \u001b[38;5;241m*\u001b[39margs, \u001b[38;5;241m*\u001b[39m\u001b[38;5;241m*\u001b[39mkwargs):\n\u001b[1;32m---> 87\u001b[0m     \u001b[38;5;28;01mreturn\u001b[39;00m \u001b[38;5;28;43mgetattr\u001b[39;49m\u001b[43m(\u001b[49m\u001b[38;5;28;43mself\u001b[39;49m\u001b[38;5;241;43m.\u001b[39;49m\u001b[43mget_queryset\u001b[49m\u001b[43m(\u001b[49m\u001b[43m)\u001b[49m\u001b[43m,\u001b[49m\u001b[43m \u001b[49m\u001b[43mname\u001b[49m\u001b[43m)\u001b[49m\u001b[43m(\u001b[49m\u001b[38;5;241;43m*\u001b[39;49m\u001b[43margs\u001b[49m\u001b[43m,\u001b[49m\u001b[43m \u001b[49m\u001b[38;5;241;43m*\u001b[39;49m\u001b[38;5;241;43m*\u001b[39;49m\u001b[43mkwargs\u001b[49m\u001b[43m)\u001b[49m\n",
      "File \u001b[1;32m~\\PycharmProjects\\django-workshop\\.venv\\Lib\\site-packages\\django\\db\\models\\query.py:1847\u001b[0m, in \u001b[0;36mQuerySet._insert\u001b[1;34m(self, objs, fields, returning_fields, raw, using, on_conflict, update_fields, unique_fields)\u001b[0m\n\u001b[0;32m   1840\u001b[0m query \u001b[38;5;241m=\u001b[39m sql\u001b[38;5;241m.\u001b[39mInsertQuery(\n\u001b[0;32m   1841\u001b[0m     \u001b[38;5;28mself\u001b[39m\u001b[38;5;241m.\u001b[39mmodel,\n\u001b[0;32m   1842\u001b[0m     on_conflict\u001b[38;5;241m=\u001b[39mon_conflict,\n\u001b[0;32m   1843\u001b[0m     update_fields\u001b[38;5;241m=\u001b[39mupdate_fields,\n\u001b[0;32m   1844\u001b[0m     unique_fields\u001b[38;5;241m=\u001b[39munique_fields,\n\u001b[0;32m   1845\u001b[0m )\n\u001b[0;32m   1846\u001b[0m query\u001b[38;5;241m.\u001b[39minsert_values(fields, objs, raw\u001b[38;5;241m=\u001b[39mraw)\n\u001b[1;32m-> 1847\u001b[0m \u001b[38;5;28;01mreturn\u001b[39;00m \u001b[43mquery\u001b[49m\u001b[38;5;241;43m.\u001b[39;49m\u001b[43mget_compiler\u001b[49m\u001b[43m(\u001b[49m\u001b[43musing\u001b[49m\u001b[38;5;241;43m=\u001b[39;49m\u001b[43musing\u001b[49m\u001b[43m)\u001b[49m\u001b[38;5;241;43m.\u001b[39;49m\u001b[43mexecute_sql\u001b[49m\u001b[43m(\u001b[49m\u001b[43mreturning_fields\u001b[49m\u001b[43m)\u001b[49m\n",
      "File \u001b[1;32m~\\PycharmProjects\\django-workshop\\.venv\\Lib\\site-packages\\django\\db\\models\\sql\\compiler.py:1836\u001b[0m, in \u001b[0;36mSQLInsertCompiler.execute_sql\u001b[1;34m(self, returning_fields)\u001b[0m\n\u001b[0;32m   1834\u001b[0m \u001b[38;5;28;01mwith\u001b[39;00m \u001b[38;5;28mself\u001b[39m\u001b[38;5;241m.\u001b[39mconnection\u001b[38;5;241m.\u001b[39mcursor() \u001b[38;5;28;01mas\u001b[39;00m cursor:\n\u001b[0;32m   1835\u001b[0m     \u001b[38;5;28;01mfor\u001b[39;00m sql, params \u001b[38;5;129;01min\u001b[39;00m \u001b[38;5;28mself\u001b[39m\u001b[38;5;241m.\u001b[39mas_sql():\n\u001b[1;32m-> 1836\u001b[0m         \u001b[43mcursor\u001b[49m\u001b[38;5;241;43m.\u001b[39;49m\u001b[43mexecute\u001b[49m\u001b[43m(\u001b[49m\u001b[43msql\u001b[49m\u001b[43m,\u001b[49m\u001b[43m \u001b[49m\u001b[43mparams\u001b[49m\u001b[43m)\u001b[49m\n\u001b[0;32m   1837\u001b[0m     \u001b[38;5;28;01mif\u001b[39;00m \u001b[38;5;129;01mnot\u001b[39;00m \u001b[38;5;28mself\u001b[39m\u001b[38;5;241m.\u001b[39mreturning_fields:\n\u001b[0;32m   1838\u001b[0m         \u001b[38;5;28;01mreturn\u001b[39;00m []\n",
      "File \u001b[1;32m~\\PycharmProjects\\django-workshop\\.venv\\Lib\\site-packages\\django\\db\\backends\\utils.py:122\u001b[0m, in \u001b[0;36mCursorDebugWrapper.execute\u001b[1;34m(self, sql, params)\u001b[0m\n\u001b[0;32m    120\u001b[0m \u001b[38;5;28;01mdef\u001b[39;00m \u001b[38;5;21mexecute\u001b[39m(\u001b[38;5;28mself\u001b[39m, sql, params\u001b[38;5;241m=\u001b[39m\u001b[38;5;28;01mNone\u001b[39;00m):\n\u001b[0;32m    121\u001b[0m     \u001b[38;5;28;01mwith\u001b[39;00m \u001b[38;5;28mself\u001b[39m\u001b[38;5;241m.\u001b[39mdebug_sql(sql, params, use_last_executed_query\u001b[38;5;241m=\u001b[39m\u001b[38;5;28;01mTrue\u001b[39;00m):\n\u001b[1;32m--> 122\u001b[0m         \u001b[38;5;28;01mreturn\u001b[39;00m \u001b[38;5;28;43msuper\u001b[39;49m\u001b[43m(\u001b[49m\u001b[43m)\u001b[49m\u001b[38;5;241;43m.\u001b[39;49m\u001b[43mexecute\u001b[49m\u001b[43m(\u001b[49m\u001b[43msql\u001b[49m\u001b[43m,\u001b[49m\u001b[43m \u001b[49m\u001b[43mparams\u001b[49m\u001b[43m)\u001b[49m\n",
      "File \u001b[1;32m~\\PycharmProjects\\django-workshop\\.venv\\Lib\\site-packages\\django\\db\\backends\\utils.py:79\u001b[0m, in \u001b[0;36mCursorWrapper.execute\u001b[1;34m(self, sql, params)\u001b[0m\n\u001b[0;32m     78\u001b[0m \u001b[38;5;28;01mdef\u001b[39;00m \u001b[38;5;21mexecute\u001b[39m(\u001b[38;5;28mself\u001b[39m, sql, params\u001b[38;5;241m=\u001b[39m\u001b[38;5;28;01mNone\u001b[39;00m):\n\u001b[1;32m---> 79\u001b[0m     \u001b[38;5;28;01mreturn\u001b[39;00m \u001b[38;5;28;43mself\u001b[39;49m\u001b[38;5;241;43m.\u001b[39;49m\u001b[43m_execute_with_wrappers\u001b[49m\u001b[43m(\u001b[49m\n\u001b[0;32m     80\u001b[0m \u001b[43m        \u001b[49m\u001b[43msql\u001b[49m\u001b[43m,\u001b[49m\u001b[43m \u001b[49m\u001b[43mparams\u001b[49m\u001b[43m,\u001b[49m\u001b[43m \u001b[49m\u001b[43mmany\u001b[49m\u001b[38;5;241;43m=\u001b[39;49m\u001b[38;5;28;43;01mFalse\u001b[39;49;00m\u001b[43m,\u001b[49m\u001b[43m \u001b[49m\u001b[43mexecutor\u001b[49m\u001b[38;5;241;43m=\u001b[39;49m\u001b[38;5;28;43mself\u001b[39;49m\u001b[38;5;241;43m.\u001b[39;49m\u001b[43m_execute\u001b[49m\n\u001b[0;32m     81\u001b[0m \u001b[43m    \u001b[49m\u001b[43m)\u001b[49m\n",
      "File \u001b[1;32m~\\PycharmProjects\\django-workshop\\.venv\\Lib\\site-packages\\django\\db\\backends\\utils.py:92\u001b[0m, in \u001b[0;36mCursorWrapper._execute_with_wrappers\u001b[1;34m(self, sql, params, many, executor)\u001b[0m\n\u001b[0;32m     90\u001b[0m \u001b[38;5;28;01mfor\u001b[39;00m wrapper \u001b[38;5;129;01min\u001b[39;00m \u001b[38;5;28mreversed\u001b[39m(\u001b[38;5;28mself\u001b[39m\u001b[38;5;241m.\u001b[39mdb\u001b[38;5;241m.\u001b[39mexecute_wrappers):\n\u001b[0;32m     91\u001b[0m     executor \u001b[38;5;241m=\u001b[39m functools\u001b[38;5;241m.\u001b[39mpartial(wrapper, executor)\n\u001b[1;32m---> 92\u001b[0m \u001b[38;5;28;01mreturn\u001b[39;00m \u001b[43mexecutor\u001b[49m\u001b[43m(\u001b[49m\u001b[43msql\u001b[49m\u001b[43m,\u001b[49m\u001b[43m \u001b[49m\u001b[43mparams\u001b[49m\u001b[43m,\u001b[49m\u001b[43m \u001b[49m\u001b[43mmany\u001b[49m\u001b[43m,\u001b[49m\u001b[43m \u001b[49m\u001b[43mcontext\u001b[49m\u001b[43m)\u001b[49m\n",
      "File \u001b[1;32m~\\PycharmProjects\\django-workshop\\.venv\\Lib\\site-packages\\django\\db\\backends\\utils.py:100\u001b[0m, in \u001b[0;36mCursorWrapper._execute\u001b[1;34m(self, sql, params, *ignored_wrapper_args)\u001b[0m\n\u001b[0;32m     98\u001b[0m     warnings\u001b[38;5;241m.\u001b[39mwarn(\u001b[38;5;28mself\u001b[39m\u001b[38;5;241m.\u001b[39mAPPS_NOT_READY_WARNING_MSG, category\u001b[38;5;241m=\u001b[39m\u001b[38;5;167;01mRuntimeWarning\u001b[39;00m)\n\u001b[0;32m     99\u001b[0m \u001b[38;5;28mself\u001b[39m\u001b[38;5;241m.\u001b[39mdb\u001b[38;5;241m.\u001b[39mvalidate_no_broken_transaction()\n\u001b[1;32m--> 100\u001b[0m \u001b[38;5;28;01mwith\u001b[39;00m \u001b[38;5;28mself\u001b[39m\u001b[38;5;241m.\u001b[39mdb\u001b[38;5;241m.\u001b[39mwrap_database_errors:\n\u001b[0;32m    101\u001b[0m     \u001b[38;5;28;01mif\u001b[39;00m params \u001b[38;5;129;01mis\u001b[39;00m \u001b[38;5;28;01mNone\u001b[39;00m:\n\u001b[0;32m    102\u001b[0m         \u001b[38;5;66;03m# params default might be backend specific.\u001b[39;00m\n\u001b[0;32m    103\u001b[0m         \u001b[38;5;28;01mreturn\u001b[39;00m \u001b[38;5;28mself\u001b[39m\u001b[38;5;241m.\u001b[39mcursor\u001b[38;5;241m.\u001b[39mexecute(sql)\n",
      "File \u001b[1;32m~\\PycharmProjects\\django-workshop\\.venv\\Lib\\site-packages\\django\\db\\utils.py:91\u001b[0m, in \u001b[0;36mDatabaseErrorWrapper.__exit__\u001b[1;34m(self, exc_type, exc_value, traceback)\u001b[0m\n\u001b[0;32m     89\u001b[0m \u001b[38;5;28;01mif\u001b[39;00m dj_exc_type \u001b[38;5;129;01mnot\u001b[39;00m \u001b[38;5;129;01min\u001b[39;00m (DataError, IntegrityError):\n\u001b[0;32m     90\u001b[0m     \u001b[38;5;28mself\u001b[39m\u001b[38;5;241m.\u001b[39mwrapper\u001b[38;5;241m.\u001b[39merrors_occurred \u001b[38;5;241m=\u001b[39m \u001b[38;5;28;01mTrue\u001b[39;00m\n\u001b[1;32m---> 91\u001b[0m \u001b[38;5;28;01mraise\u001b[39;00m dj_exc_value\u001b[38;5;241m.\u001b[39mwith_traceback(traceback) \u001b[38;5;28;01mfrom\u001b[39;00m \u001b[38;5;21;01mexc_value\u001b[39;00m\n",
      "File \u001b[1;32m~\\PycharmProjects\\django-workshop\\.venv\\Lib\\site-packages\\django\\db\\backends\\utils.py:105\u001b[0m, in \u001b[0;36mCursorWrapper._execute\u001b[1;34m(self, sql, params, *ignored_wrapper_args)\u001b[0m\n\u001b[0;32m    103\u001b[0m     \u001b[38;5;28;01mreturn\u001b[39;00m \u001b[38;5;28mself\u001b[39m\u001b[38;5;241m.\u001b[39mcursor\u001b[38;5;241m.\u001b[39mexecute(sql)\n\u001b[0;32m    104\u001b[0m \u001b[38;5;28;01melse\u001b[39;00m:\n\u001b[1;32m--> 105\u001b[0m     \u001b[38;5;28;01mreturn\u001b[39;00m \u001b[38;5;28;43mself\u001b[39;49m\u001b[38;5;241;43m.\u001b[39;49m\u001b[43mcursor\u001b[49m\u001b[38;5;241;43m.\u001b[39;49m\u001b[43mexecute\u001b[49m\u001b[43m(\u001b[49m\u001b[43msql\u001b[49m\u001b[43m,\u001b[49m\u001b[43m \u001b[49m\u001b[43mparams\u001b[49m\u001b[43m)\u001b[49m\n",
      "File \u001b[1;32m~\\PycharmProjects\\django-workshop\\.venv\\Lib\\site-packages\\django\\db\\backends\\sqlite3\\base.py:354\u001b[0m, in \u001b[0;36mSQLiteCursorWrapper.execute\u001b[1;34m(self, query, params)\u001b[0m\n\u001b[0;32m    352\u001b[0m param_names \u001b[38;5;241m=\u001b[39m \u001b[38;5;28mlist\u001b[39m(params) \u001b[38;5;28;01mif\u001b[39;00m \u001b[38;5;28misinstance\u001b[39m(params, Mapping) \u001b[38;5;28;01melse\u001b[39;00m \u001b[38;5;28;01mNone\u001b[39;00m\n\u001b[0;32m    353\u001b[0m query \u001b[38;5;241m=\u001b[39m \u001b[38;5;28mself\u001b[39m\u001b[38;5;241m.\u001b[39mconvert_query(query, param_names\u001b[38;5;241m=\u001b[39mparam_names)\n\u001b[1;32m--> 354\u001b[0m \u001b[38;5;28;01mreturn\u001b[39;00m \u001b[38;5;28;43msuper\u001b[39;49m\u001b[43m(\u001b[49m\u001b[43m)\u001b[49m\u001b[38;5;241;43m.\u001b[39;49m\u001b[43mexecute\u001b[49m\u001b[43m(\u001b[49m\u001b[43mquery\u001b[49m\u001b[43m,\u001b[49m\u001b[43m \u001b[49m\u001b[43mparams\u001b[49m\u001b[43m)\u001b[49m\n",
      "\u001b[1;31mIntegrityError\u001b[0m: NOT NULL constraint failed: orm_app_country.capital_id"
     ]
    }
   ],
   "source": [
    "# 2. Tworzymy wpis tabeli Country\n",
    "poland = Country.objects.create(name=\"Poland\")"
   ]
  },
  {
   "cell_type": "code",
   "execution_count": 5,
   "id": "915d4444",
   "metadata": {},
   "outputs": [
    {
     "ename": "ValueError",
     "evalue": "Cannot assign \"'Warsaw'\": \"Country.capital\" must be a \"Capital\" instance.",
     "output_type": "error",
     "traceback": [
      "\u001b[1;31m---------------------------------------------------------------------------\u001b[0m",
      "\u001b[1;31mValueError\u001b[0m                                Traceback (most recent call last)",
      "Cell \u001b[1;32mIn[5], line 7\u001b[0m\n\u001b[0;32m      1\u001b[0m \u001b[38;5;66;03m# Nie możemy! Dostaliśmy IntegrityError.\u001b[39;00m\n\u001b[0;32m      2\u001b[0m \u001b[38;5;66;03m# Dlaczego?\u001b[39;00m\n\u001b[0;32m      3\u001b[0m \u001b[38;5;66;03m# Ponieważ pole capitol (z referencją do modelu Capital) nie może być puste, a my próbując stworzyć \u001b[39;00m\n\u001b[0;32m      4\u001b[0m \u001b[38;5;66;03m# wpis nie podaliśmy wartości w tym polu.\u001b[39;00m\n\u001b[0;32m      5\u001b[0m \n\u001b[0;32m      6\u001b[0m \u001b[38;5;66;03m# Spróbujmy dopisać\u001b[39;00m\n\u001b[1;32m----> 7\u001b[0m poland \u001b[38;5;241m=\u001b[39m \u001b[43mCountry\u001b[49m\u001b[38;5;241;43m.\u001b[39;49m\u001b[43mobjects\u001b[49m\u001b[38;5;241;43m.\u001b[39;49m\u001b[43mcreate\u001b[49m\u001b[43m(\u001b[49m\u001b[43mname\u001b[49m\u001b[38;5;241;43m=\u001b[39;49m\u001b[38;5;124;43m\"\u001b[39;49m\u001b[38;5;124;43mPoland\u001b[39;49m\u001b[38;5;124;43m\"\u001b[39;49m\u001b[43m,\u001b[49m\u001b[43m \u001b[49m\u001b[43mcapital\u001b[49m\u001b[38;5;241;43m=\u001b[39;49m\u001b[38;5;124;43m\"\u001b[39;49m\u001b[38;5;124;43mWarsaw\u001b[39;49m\u001b[38;5;124;43m\"\u001b[39;49m\u001b[43m)\u001b[49m\n",
      "File \u001b[1;32m~\\PycharmProjects\\django-workshop\\.venv\\Lib\\site-packages\\django\\db\\models\\manager.py:87\u001b[0m, in \u001b[0;36mBaseManager._get_queryset_methods.<locals>.create_method.<locals>.manager_method\u001b[1;34m(self, *args, **kwargs)\u001b[0m\n\u001b[0;32m     85\u001b[0m \u001b[38;5;129m@wraps\u001b[39m(method)\n\u001b[0;32m     86\u001b[0m \u001b[38;5;28;01mdef\u001b[39;00m \u001b[38;5;21mmanager_method\u001b[39m(\u001b[38;5;28mself\u001b[39m, \u001b[38;5;241m*\u001b[39margs, \u001b[38;5;241m*\u001b[39m\u001b[38;5;241m*\u001b[39mkwargs):\n\u001b[1;32m---> 87\u001b[0m     \u001b[38;5;28;01mreturn\u001b[39;00m \u001b[38;5;28;43mgetattr\u001b[39;49m\u001b[43m(\u001b[49m\u001b[38;5;28;43mself\u001b[39;49m\u001b[38;5;241;43m.\u001b[39;49m\u001b[43mget_queryset\u001b[49m\u001b[43m(\u001b[49m\u001b[43m)\u001b[49m\u001b[43m,\u001b[49m\u001b[43m \u001b[49m\u001b[43mname\u001b[49m\u001b[43m)\u001b[49m\u001b[43m(\u001b[49m\u001b[38;5;241;43m*\u001b[39;49m\u001b[43margs\u001b[49m\u001b[43m,\u001b[49m\u001b[43m \u001b[49m\u001b[38;5;241;43m*\u001b[39;49m\u001b[38;5;241;43m*\u001b[39;49m\u001b[43mkwargs\u001b[49m\u001b[43m)\u001b[49m\n",
      "File \u001b[1;32m~\\PycharmProjects\\django-workshop\\.venv\\Lib\\site-packages\\django\\db\\models\\query.py:677\u001b[0m, in \u001b[0;36mQuerySet.create\u001b[1;34m(self, **kwargs)\u001b[0m\n\u001b[0;32m    671\u001b[0m \u001b[38;5;28;01mif\u001b[39;00m reverse_one_to_one_fields:\n\u001b[0;32m    672\u001b[0m     \u001b[38;5;28;01mraise\u001b[39;00m \u001b[38;5;167;01mValueError\u001b[39;00m(\n\u001b[0;32m    673\u001b[0m         \u001b[38;5;124m\"\u001b[39m\u001b[38;5;124mThe following fields do not exist in this model: \u001b[39m\u001b[38;5;132;01m%s\u001b[39;00m\u001b[38;5;124m\"\u001b[39m\n\u001b[0;32m    674\u001b[0m         \u001b[38;5;241m%\u001b[39m \u001b[38;5;124m\"\u001b[39m\u001b[38;5;124m, \u001b[39m\u001b[38;5;124m\"\u001b[39m\u001b[38;5;241m.\u001b[39mjoin(reverse_one_to_one_fields)\n\u001b[0;32m    675\u001b[0m     )\n\u001b[1;32m--> 677\u001b[0m obj \u001b[38;5;241m=\u001b[39m \u001b[38;5;28;43mself\u001b[39;49m\u001b[38;5;241;43m.\u001b[39;49m\u001b[43mmodel\u001b[49m\u001b[43m(\u001b[49m\u001b[38;5;241;43m*\u001b[39;49m\u001b[38;5;241;43m*\u001b[39;49m\u001b[43mkwargs\u001b[49m\u001b[43m)\u001b[49m\n\u001b[0;32m    678\u001b[0m \u001b[38;5;28mself\u001b[39m\u001b[38;5;241m.\u001b[39m_for_write \u001b[38;5;241m=\u001b[39m \u001b[38;5;28;01mTrue\u001b[39;00m\n\u001b[0;32m    679\u001b[0m obj\u001b[38;5;241m.\u001b[39msave(force_insert\u001b[38;5;241m=\u001b[39m\u001b[38;5;28;01mTrue\u001b[39;00m, using\u001b[38;5;241m=\u001b[39m\u001b[38;5;28mself\u001b[39m\u001b[38;5;241m.\u001b[39mdb)\n",
      "File \u001b[1;32m~\\PycharmProjects\\django-workshop\\.venv\\Lib\\site-packages\\django\\db\\models\\base.py:543\u001b[0m, in \u001b[0;36mModel.__init__\u001b[1;34m(self, *args, **kwargs)\u001b[0m\n\u001b[0;32m    537\u001b[0m \u001b[38;5;28;01mif\u001b[39;00m is_related_object:\n\u001b[0;32m    538\u001b[0m     \u001b[38;5;66;03m# If we are passed a related instance, set it using the\u001b[39;00m\n\u001b[0;32m    539\u001b[0m     \u001b[38;5;66;03m# field.name instead of field.attname (e.g. \"user\" instead of\u001b[39;00m\n\u001b[0;32m    540\u001b[0m     \u001b[38;5;66;03m# \"user_id\") so that the object gets properly cached (and type\u001b[39;00m\n\u001b[0;32m    541\u001b[0m     \u001b[38;5;66;03m# checked) by the RelatedObjectDescriptor.\u001b[39;00m\n\u001b[0;32m    542\u001b[0m     \u001b[38;5;28;01mif\u001b[39;00m rel_obj \u001b[38;5;129;01mis\u001b[39;00m \u001b[38;5;129;01mnot\u001b[39;00m _DEFERRED:\n\u001b[1;32m--> 543\u001b[0m         \u001b[43m_setattr\u001b[49m\u001b[43m(\u001b[49m\u001b[38;5;28;43mself\u001b[39;49m\u001b[43m,\u001b[49m\u001b[43m \u001b[49m\u001b[43mfield\u001b[49m\u001b[38;5;241;43m.\u001b[39;49m\u001b[43mname\u001b[49m\u001b[43m,\u001b[49m\u001b[43m \u001b[49m\u001b[43mrel_obj\u001b[49m\u001b[43m)\u001b[49m\n\u001b[0;32m    544\u001b[0m \u001b[38;5;28;01melse\u001b[39;00m:\n\u001b[0;32m    545\u001b[0m     \u001b[38;5;28;01mif\u001b[39;00m val \u001b[38;5;129;01mis\u001b[39;00m \u001b[38;5;129;01mnot\u001b[39;00m _DEFERRED:\n",
      "File \u001b[1;32m~\\PycharmProjects\\django-workshop\\.venv\\Lib\\site-packages\\django\\db\\models\\fields\\related_descriptors.py:390\u001b[0m, in \u001b[0;36mForwardOneToOneDescriptor.__set__\u001b[1;34m(self, instance, value)\u001b[0m\n\u001b[0;32m    389\u001b[0m \u001b[38;5;28;01mdef\u001b[39;00m \u001b[38;5;21m__set__\u001b[39m(\u001b[38;5;28mself\u001b[39m, instance, value):\n\u001b[1;32m--> 390\u001b[0m     \u001b[38;5;28;43msuper\u001b[39;49m\u001b[43m(\u001b[49m\u001b[43m)\u001b[49m\u001b[38;5;241;43m.\u001b[39;49m\u001b[38;5;21;43m__set__\u001b[39;49m\u001b[43m(\u001b[49m\u001b[43minstance\u001b[49m\u001b[43m,\u001b[49m\u001b[43m \u001b[49m\u001b[43mvalue\u001b[49m\u001b[43m)\u001b[49m\n\u001b[0;32m    391\u001b[0m     \u001b[38;5;66;03m# If the primary key is a link to a parent model and a parent instance\u001b[39;00m\n\u001b[0;32m    392\u001b[0m     \u001b[38;5;66;03m# is being set, update the value of the inherited pk(s).\u001b[39;00m\n\u001b[0;32m    393\u001b[0m     \u001b[38;5;28;01mif\u001b[39;00m \u001b[38;5;28mself\u001b[39m\u001b[38;5;241m.\u001b[39mfield\u001b[38;5;241m.\u001b[39mprimary_key \u001b[38;5;129;01mand\u001b[39;00m \u001b[38;5;28mself\u001b[39m\u001b[38;5;241m.\u001b[39mfield\u001b[38;5;241m.\u001b[39mremote_field\u001b[38;5;241m.\u001b[39mparent_link:\n",
      "File \u001b[1;32m~\\PycharmProjects\\django-workshop\\.venv\\Lib\\site-packages\\django\\db\\models\\fields\\related_descriptors.py:287\u001b[0m, in \u001b[0;36mForwardManyToOneDescriptor.__set__\u001b[1;34m(self, instance, value)\u001b[0m\n\u001b[0;32m    283\u001b[0m \u001b[38;5;66;03m# An object must be an instance of the related class.\u001b[39;00m\n\u001b[0;32m    284\u001b[0m \u001b[38;5;28;01mif\u001b[39;00m value \u001b[38;5;129;01mis\u001b[39;00m \u001b[38;5;129;01mnot\u001b[39;00m \u001b[38;5;28;01mNone\u001b[39;00m \u001b[38;5;129;01mand\u001b[39;00m \u001b[38;5;129;01mnot\u001b[39;00m \u001b[38;5;28misinstance\u001b[39m(\n\u001b[0;32m    285\u001b[0m     value, \u001b[38;5;28mself\u001b[39m\u001b[38;5;241m.\u001b[39mfield\u001b[38;5;241m.\u001b[39mremote_field\u001b[38;5;241m.\u001b[39mmodel\u001b[38;5;241m.\u001b[39m_meta\u001b[38;5;241m.\u001b[39mconcrete_model\n\u001b[0;32m    286\u001b[0m ):\n\u001b[1;32m--> 287\u001b[0m     \u001b[38;5;28;01mraise\u001b[39;00m \u001b[38;5;167;01mValueError\u001b[39;00m(\n\u001b[0;32m    288\u001b[0m         \u001b[38;5;124m'\u001b[39m\u001b[38;5;124mCannot assign \u001b[39m\u001b[38;5;124m\"\u001b[39m\u001b[38;5;132;01m%r\u001b[39;00m\u001b[38;5;124m\"\u001b[39m\u001b[38;5;124m: \u001b[39m\u001b[38;5;124m\"\u001b[39m\u001b[38;5;132;01m%s\u001b[39;00m\u001b[38;5;124m.\u001b[39m\u001b[38;5;132;01m%s\u001b[39;00m\u001b[38;5;124m\"\u001b[39m\u001b[38;5;124m must be a \u001b[39m\u001b[38;5;124m\"\u001b[39m\u001b[38;5;132;01m%s\u001b[39;00m\u001b[38;5;124m\"\u001b[39m\u001b[38;5;124m instance.\u001b[39m\u001b[38;5;124m'\u001b[39m\n\u001b[0;32m    289\u001b[0m         \u001b[38;5;241m%\u001b[39m (\n\u001b[0;32m    290\u001b[0m             value,\n\u001b[0;32m    291\u001b[0m             instance\u001b[38;5;241m.\u001b[39m_meta\u001b[38;5;241m.\u001b[39mobject_name,\n\u001b[0;32m    292\u001b[0m             \u001b[38;5;28mself\u001b[39m\u001b[38;5;241m.\u001b[39mfield\u001b[38;5;241m.\u001b[39mname,\n\u001b[0;32m    293\u001b[0m             \u001b[38;5;28mself\u001b[39m\u001b[38;5;241m.\u001b[39mfield\u001b[38;5;241m.\u001b[39mremote_field\u001b[38;5;241m.\u001b[39mmodel\u001b[38;5;241m.\u001b[39m_meta\u001b[38;5;241m.\u001b[39mobject_name,\n\u001b[0;32m    294\u001b[0m         )\n\u001b[0;32m    295\u001b[0m     )\n\u001b[0;32m    296\u001b[0m \u001b[38;5;28;01melif\u001b[39;00m value \u001b[38;5;129;01mis\u001b[39;00m \u001b[38;5;129;01mnot\u001b[39;00m \u001b[38;5;28;01mNone\u001b[39;00m:\n\u001b[0;32m    297\u001b[0m     \u001b[38;5;28;01mif\u001b[39;00m instance\u001b[38;5;241m.\u001b[39m_state\u001b[38;5;241m.\u001b[39mdb \u001b[38;5;129;01mis\u001b[39;00m \u001b[38;5;28;01mNone\u001b[39;00m:\n",
      "\u001b[1;31mValueError\u001b[0m: Cannot assign \"'Warsaw'\": \"Country.capital\" must be a \"Capital\" instance."
     ]
    }
   ],
   "source": [
    "# Nie możemy! Dostaliśmy IntegrityError.\n",
    "# Dlaczego?\n",
    "# Ponieważ pole capitol (z referencją do modelu Capital) nie może być puste, a my próbując stworzyć \n",
    "# wpis nie podaliśmy wartości w tym polu.\n",
    "\n",
    "# Spróbujmy dopisać\n",
    "poland = Country.objects.create(name=\"Poland\", capital=\"Warsaw\")"
   ]
  },
  {
   "cell_type": "code",
   "execution_count": 6,
   "id": "5f4b201b",
   "metadata": {},
   "outputs": [
    {
     "data": {
      "text/plain": [
       "<Capital: Capital object (1)>"
      ]
     },
     "execution_count": 6,
     "metadata": {},
     "output_type": "execute_result"
    }
   ],
   "source": [
    "# Znów się nie udało. Tym razem wprowadziliśmy wartość, ale była ona typu string. \n",
    "# Python informuje nas, że wprowadzana w tym polu wartość powinna być instancją klasy \n",
    "# (modelu) Capital.\n",
    "\n",
    "# Ale my już mamy taką jedną instancję. Przypisaliśmy ją do zmiennej warsaw, tworząc \n",
    "# pierwszy wpis w tabeli Captial.\n",
    "warsaw"
   ]
  },
  {
   "cell_type": "code",
   "execution_count": 7,
   "id": "5fea6abd",
   "metadata": {},
   "outputs": [],
   "source": [
    "# czyli wystarczy teraz ją wykorzystać. To pierwszy sposób tworzenia.\n",
    "\n",
    "# Metada I (instancja modelu)\n",
    "poland = Country.objects.create(name=\"Poland\", capital=warsaw)"
   ]
  },
  {
   "cell_type": "code",
   "execution_count": 8,
   "id": "7a513dcb",
   "metadata": {},
   "outputs": [],
   "source": [
    "# Oczywiście możemy używać tu również dwóch pozostałych metod tworzenia wpisów, \n",
    "# które już poznaliśmy.\n",
    "\n",
    "# Tworzymy wpis dla Francji (metoda II)\n",
    "paris = Capital(name=\"Paris\")\n",
    "paris.save()\n",
    "france = Country(name=\"France\", capital=paris)\n",
    "france.save()\n",
    "\n",
    "# Tworzymy wpis dla Włoch (metoda III)\n",
    "rome = Capital()\n",
    "rome.name = \"Rome\"\n",
    "rome.save()\n",
    "italy = Country()\n",
    "italy.name = \"Italy\"\n",
    "italy.capital = rome\n",
    "italy.save()"
   ]
  },
  {
   "cell_type": "code",
   "execution_count": 9,
   "id": "641f59a9",
   "metadata": {},
   "outputs": [
    {
     "name": "stdout",
     "output_type": "stream",
     "text": [
      "['DoesNotExist', 'MultipleObjectsReturned', '__class__', '__delattr__', '__dict__', '__dir__', '__doc__', '__eq__', '__format__', '__ge__', '__getattribute__', '__getstate__', '__gt__', '__hash__', '__init__', '__init_subclass__', '__le__', '__lt__', '__module__', '__ne__', '__new__', '__reduce__', '__reduce_ex__', '__repr__', '__setattr__', '__setstate__', '__sizeof__', '__str__', '__subclasshook__', '__weakref__', '_check_column_name_clashes', '_check_constraints', '_check_db_table_comment', '_check_default_pk', '_check_field_name_clashes', '_check_fields', '_check_id_field', '_check_indexes', '_check_local_fields', '_check_long_column_names', '_check_m2m_through_same_relationship', '_check_managers', '_check_model', '_check_model_name_db_lookup_clashes', '_check_ordering', '_check_property_name_related_field_accessor_clashes', '_check_single_primary_key', '_check_swappable', '_check_unique_together', '_do_insert', '_do_update', '_get_FIELD_display', '_get_expr_references', '_get_field_expression_map', '_get_next_or_previous_by_FIELD', '_get_next_or_previous_in_order', '_get_pk_val', '_get_unique_checks', '_meta', '_parse_params', '_perform_date_checks', '_perform_unique_checks', '_prepare_related_fields_for_save', '_save_parents', '_save_table', '_set_pk_val', '_validate_force_insert', 'adelete', 'arefresh_from_db', 'asave', 'capital', 'capital_id', 'check', 'clean', 'clean_fields', 'date_error_message', 'delete', 'from_db', 'full_clean', 'get_constraints', 'get_deferred_fields', 'id', 'name', 'objects', 'pk', 'prepare_database_save', 'refresh_from_db', 'save', 'save_base', 'serializable_value', 'unique_error_message', 'validate_constraints', 'validate_unique']\n"
     ]
    }
   ],
   "source": [
    "# Ale mamy jeszcze inny sposób. \n",
    "\n",
    "# Popatrzmy na to co posiada tabelka Country\n",
    "print(dir(Country))"
   ]
  },
  {
   "cell_type": "code",
   "execution_count": 10,
   "id": "31b25364",
   "metadata": {},
   "outputs": [],
   "source": [
    "# Widać, że Django poza polem capitol wygenerowało również dla modelu Country pole capitol_id \n",
    "# reprezentujące id wpisu tabeli Capitol. Możemy użyć tego pola do utworzenia relacji.\n",
    "\n",
    "# Metoda II (id instancji modelu)\n",
    "\n",
    "# 1. Tworzymy wpis w tabeli Capitol\n",
    "berlin = Capital.objects.create(name=\"Berlin\")\n",
    "berlin_id = berlin.id  # -> 2\n",
    "\n",
    "# 2. Tworzymy wpis w tabeli Country przekazując id instancji modelu Capitol\n",
    "germany = Country.objects.create(name=\"Germany\", capital_id=berlin_id)"
   ]
  },
  {
   "cell_type": "markdown",
   "id": "ad022d40",
   "metadata": {},
   "source": [
    "## ForeignKey"
   ]
  },
  {
   "cell_type": "markdown",
   "id": "cf42bd64",
   "metadata": {},
   "source": [
    "Relacja jeden do wielu jest najczęściej wykorzystywanym typem relacji. Występuje wtedy, kiedy wpis z jednej tabeli (tzw. tabeli rodzica) może być powiązany z wieloma wpisami z drugiej (tzw. tabeli dziecka), ale wpis z drugiej tabeli (tabeli dziecka) nie może być powiązany z wielom wpisami z pierwszej (tabeli rodzica). Innymi słowy rodzic może mieć wiele dzieci, ale dziecko może mieć tylko jednego rodzica. Przykładem takiej relacji może być tabela \"miasto\" oraz tabela \"państwo\". Gdańsk należy do Polski. Kraków należy do Polski. Mówiąc Gdańsk myślimy Polska (to strona relacja \"jeden\"). Podobnie mówiąc Kraków myślimy Polska. Ale już mówiąc Polska myślimy Gdańsk, Kraków, Wrocław, ... (to strona relacji \"wiele\"). \n",
    "\n",
    "Najprościej jest wyobrazić sobie relacje jeden-do-wielu jako strukturę hierarchiczną, czyli drzewo. Na górze mamy rodzica, a pod nim wiele dzieci. Tutaj Polska jest rodzicem, a Gdańsk, Kraków, Wrocław, ... dziećmi. To po której stronie umieścimy pole do przechowywania relacji zależy wyłącznie od nas. Zazwyczaj znacznie łatwiej myśli się o takiej relacji, kiedy pole umieści się po stronie dziecka (ponieważ dziecko ma tylko jednego rodzica). Czyli umieszczamy pole ForeignKey w modelu \"miasto\" i wpisy Gdańsk, Kraków, Wrocław posiadają referencje do wpisu Polska z modelu \"państwo\". \n",
    "\n",
    "Innym przykładem takiej relacji może być język programowania i framework. Jezyk programowania to np. Python. Framework to np. Django, Flask, Bottle. Rodzicem jest tu język programowania, dziećmi poszczególne frameworki (mówimy Python myślimy Django, Flask, Bottle... ale mówimy Django myślimy Python). Czyli pole z relacją najlepiej umieścić po stronie modelu Framework."
   ]
  },
  {
   "cell_type": "markdown",
   "id": "dcc919f9",
   "metadata": {},
   "source": [
    "**Definicje modeli**\n",
    "\n",
    "W modelach mamy dwie klasy: Language i Framework. Relacje ForignKey umieściliśmy po stronie modelu Framework (dziecko). Atrybut przechowujący relację nazwaliśmy language.\n",
    "\n",
    "<code>class Language(models.Model):\n",
    "    name = models.CharField(max_length=64)\n",
    "</code>\n",
    "<code>\n",
    "    def __str__(self):\n",
    "        return f\"{self.name}\"\n",
    "</code>\n",
    "\n",
    "<code>class Framework(models.Model):\n",
    "    name = models.CharField(max_length=64)\n",
    "    language = models.ForeignKey('Language', on_delete=models.CASCADE)\n",
    "</code>\n",
    "<code>\n",
    "    def __str__(self):\n",
    "        return f\"{self.name} ({self.language})\"\n",
    "</code>"
   ]
  },
  {
   "cell_type": "markdown",
   "id": "519c5966",
   "metadata": {},
   "source": [
    "### C z CRUD"
   ]
  },
  {
   "cell_type": "markdown",
   "id": "8b383c05",
   "metadata": {},
   "source": [
    "Operacje \"C\" niczym się nie różnią od tych dla pola OneToOneField. W ramach utrwalenia przypomnijmy, że mamy dwie metody."
   ]
  },
  {
   "cell_type": "code",
   "execution_count": 3,
   "id": "cbd0991f",
   "metadata": {},
   "outputs": [],
   "source": [
    "from orm_app.models import Language, Framework"
   ]
  },
  {
   "cell_type": "code",
   "execution_count": 3,
   "id": "debe9fc3",
   "metadata": {},
   "outputs": [],
   "source": [
    "# Metad I (instancja modelu)\n",
    "\n",
    "python = Language.objects.create(name=\"python\")\n",
    "django = Framework.objects.create(name=\"django\", language=python)\n",
    "flask = Framework.objects.create(name=\"flask\", language=python)"
   ]
  },
  {
   "cell_type": "code",
   "execution_count": 4,
   "id": "53ae3a95",
   "metadata": {},
   "outputs": [],
   "source": [
    "# Metad II (id instancji modelu)\n",
    "\n",
    "java = Language.objects.create(name=\"java\")\n",
    "spring = Framework.objects.create(name=\"spring\", language_id=java.id)"
   ]
  },
  {
   "cell_type": "markdown",
   "id": "922694d8",
   "metadata": {},
   "source": [
    "### R z CRUD"
   ]
  },
  {
   "cell_type": "markdown",
   "id": "6b2ac7fd",
   "metadata": {},
   "source": [
    "Na początek wyświetlmy wszystkie framework-i."
   ]
  },
  {
   "cell_type": "code",
   "execution_count": 4,
   "id": "1c54d6f6",
   "metadata": {},
   "outputs": [
    {
     "data": {
      "text/plain": [
       "<QuerySet [<Framework: django (python)>, <Framework: flask (python)>, <Framework: spring (java)>]>"
      ]
     },
     "execution_count": 4,
     "metadata": {},
     "output_type": "execute_result"
    }
   ],
   "source": [
    "Framework.objects.all()  # doróbmy __str__ modelom Framework i Language"
   ]
  },
  {
   "cell_type": "code",
   "execution_count": 5,
   "id": "15cd5858",
   "metadata": {},
   "outputs": [
    {
     "name": "stdout",
     "output_type": "stream",
     "text": [
      "<QuerySet [<Framework: django (python)>, <Framework: flask (python)>]>\n"
     ]
    }
   ],
   "source": [
    "# A frameworki tylko dla konkretnego języka?\n",
    "# Klasyczny filtr po polu language.\n",
    "\n",
    "# 1. Pobieramy obiekt, po którym będziemy wyszukiwać.\n",
    "python = Language.objects.get(name='python')\n",
    "\n",
    "# 2. Wyszukujemy po pobranym obiekcie.\n",
    "frameworks = Framework.objects.filter(language=python)\n",
    "print(frameworks)"
   ]
  },
  {
   "cell_type": "code",
   "execution_count": 6,
   "id": "0f773499",
   "metadata": {},
   "outputs": [
    {
     "name": "stdout",
     "output_type": "stream",
     "text": [
      "python\n",
      "<class 'orm_app.models.Language'>\n"
     ]
    }
   ],
   "source": [
    "# wartością atrybutu reprezentującego relację jest obiekt\n",
    "django = Framework.objects.get(name='django')\n",
    "print(django.language)\n",
    "print(type(django.language))"
   ]
  },
  {
   "cell_type": "code",
   "execution_count": 7,
   "id": "85a93fbc",
   "metadata": {},
   "outputs": [
    {
     "name": "stdout",
     "output_type": "stream",
     "text": [
      "['DoesNotExist', 'MultipleObjectsReturned', '__class__', '__delattr__', '__dict__', '__dir__', '__doc__', '__eq__', '__format__', '__ge__', '__getattribute__', '__getstate__', '__gt__', '__hash__', '__init__', '__init_subclass__', '__le__', '__lt__', '__module__', '__ne__', '__new__', '__reduce__', '__reduce_ex__', '__repr__', '__setattr__', '__setstate__', '__sizeof__', '__str__', '__subclasshook__', '__weakref__', '_check_column_name_clashes', '_check_constraints', '_check_db_table_comment', '_check_default_pk', '_check_field_name_clashes', '_check_fields', '_check_id_field', '_check_indexes', '_check_local_fields', '_check_long_column_names', '_check_m2m_through_same_relationship', '_check_managers', '_check_model', '_check_model_name_db_lookup_clashes', '_check_ordering', '_check_property_name_related_field_accessor_clashes', '_check_single_primary_key', '_check_swappable', '_check_unique_together', '_do_insert', '_do_update', '_get_FIELD_display', '_get_expr_references', '_get_field_expression_map', '_get_next_or_previous_by_FIELD', '_get_next_or_previous_in_order', '_get_pk_val', '_get_unique_checks', '_meta', '_parse_params', '_perform_date_checks', '_perform_unique_checks', '_prepare_related_fields_for_save', '_save_parents', '_save_table', '_set_pk_val', '_validate_force_insert', 'adelete', 'arefresh_from_db', 'asave', 'check', 'clean', 'clean_fields', 'date_error_message', 'delete', 'framework_set', 'from_db', 'full_clean', 'get_constraints', 'get_deferred_fields', 'id', 'name', 'objects', 'pk', 'prepare_database_save', 'refresh_from_db', 'save', 'save_base', 'serializable_value', 'unique_error_message', 'validate_constraints', 'validate_unique']\n"
     ]
    }
   ],
   "source": [
    "print(dir(Language))"
   ]
  },
  {
   "cell_type": "code",
   "execution_count": 8,
   "id": "1e045ee7",
   "metadata": {},
   "outputs": [
    {
     "name": "stdout",
     "output_type": "stream",
     "text": [
      "<QuerySet [<Framework: django (python)>, <Framework: flask (python)>]>\n",
      "<QuerySet [<Framework: django (python)>]>\n"
     ]
    }
   ],
   "source": [
    "# Realizacja relacji odwrotnej w Django\n",
    "python = Language.objects.get(name='python')\n",
    "python.framework_set  # powiązany menadżer obiektu\n",
    "\n",
    "\n",
    "print(python.framework_set.all())\n",
    "print(python.framework_set.filter(name__startswith='dj'))"
   ]
  },
  {
   "cell_type": "code",
   "execution_count": 11,
   "id": "384b14fd",
   "metadata": {},
   "outputs": [
    {
     "name": "stdout",
     "output_type": "stream",
     "text": [
      "<QuerySet [<Framework: django (python)>, <Framework: flask (python)>]>\n"
     ]
    },
    {
     "data": {
      "text/plain": [
       "<QuerySet [<Framework: django (python)>, <Framework: flask (python)>]>"
      ]
     },
     "execution_count": 11,
     "metadata": {},
     "output_type": "execute_result"
    }
   ],
   "source": [
    "# Drugie zastosowanie lookupów - lookupy działają też na relacjach\n",
    "\n",
    "# Wyciągnij wszystkie frameworki pythona\n",
    "\n",
    "# metoda I\n",
    "python = Language.objects.get(name='python')\n",
    "frameworks = Framework.objects.filter(language=python)\n",
    "print(frameworks)\n",
    "\n",
    "# metoda II (z użyciem lookup)\n",
    "Framework.objects.filter(language__name=\"python\")"
   ]
  },
  {
   "cell_type": "code",
   "execution_count": 12,
   "id": "f75c82d3-bdf3-4b84-bfdb-9d5127a13e48",
   "metadata": {},
   "outputs": [
    {
     "data": {
      "text/plain": [
       "{'sql': 'SELECT \"orm_app_framework\".\"id\", \"orm_app_framework\".\"name\", \"orm_app_framework\".\"language_id\", \"orm_app_language\".\"id\", \"orm_app_language\".\"name\" FROM \"orm_app_framework\" INNER JOIN \"orm_app_language\" ON (\"orm_app_framework\".\"language_id\" = \"orm_app_language\".\"id\") WHERE \"orm_app_language\".\"name\" = \\'python\\' LIMIT 21',\n",
       " 'time': '0.000'}"
      ]
     },
     "execution_count": 12,
     "metadata": {},
     "output_type": "execute_result"
    }
   ],
   "source": [
    "from django.db import connection\n",
    "\n",
    "connection.queries[-1]"
   ]
  },
  {
   "cell_type": "markdown",
   "id": "8c5b9798",
   "metadata": {},
   "source": [
    "## ManyToMany"
   ]
  },
  {
   "cell_type": "markdown",
   "id": "a93f9b57",
   "metadata": {},
   "source": [
    "Ostatnia z omawianych relacji to relacja wiele-do-wielu. Dotyczy sytuacji kiedy wpisy z jednej tabeli mogą być powiązane z wielom wpisami z drugiej oraz wpisy z drugiej tabeli mogą być powiązane z wieloma wpisami z tabeli pierwszej. Przykładem takiej relacji może być tabela Aktor oraz tabela Film. Mówimy Al Pacino myślimy Scareface, Gorączka, Ojciec Chrzestny... Mówimy Ojciec Chrzestny myślimy Al Pacino, Robert DeNiro, Marlon Brando ... Relację możemy umieścić w dowolnej z powiązanych tabeli.\n",
    "Jest to najbardziej złożony typ relacji, ponieważ zgodnie z zasadami normalizacji realizacja relacji wiele-do-wielu wymaga wprowadzenia tabeli pośredniej. Na szczęście django ORM o tym wszystkim wie i my nie musimy przejmować się tworzeniem nowej tabeli. Django utworzy ją za nas, a naszym zadaniem jest tylko wskazać, że chcemy mieć relację wiele-do-wielu.\n",
    "\n",
    "**Definicje modeli**\n",
    "\n",
    "W modelach mamy dwie klasy: Actor i Movie. Relacje ManyToMany umieszczamy po stronie Movie (ale równie dobrze moglibyśmy umieścić po stronie Actor). Atrybut przechowujący relację nazwaliśmy actors (zwróć uwagę na to, że tym razem w nazwie pola użyliśmy liczby mnogiej).\n",
    "\n",
    "<code>class Actor(models.Model):\n",
    "    name = models.CharField(max_length=64)\n",
    "</code>\n",
    "<code>\n",
    "    def __str__(self):\n",
    "        return f\"{self.name}\"\n",
    "</code>\n",
    "\n",
    "<code>class Movie(models.Model):\n",
    "    title = models.CharField(max_length=128)\n",
    "    actors = models.ManyToManyField('Actor')\n",
    "</code>\n",
    "<code>\n",
    "    def __str__(self):\n",
    "        return f\"{self.title}\"\n",
    "</code>\n"
   ]
  },
  {
   "cell_type": "markdown",
   "id": "d717f558",
   "metadata": {},
   "source": [
    "Kiedy spojrzymy do bazy przekonamy się, że tabela actor nie mam kolumny movies. Zamiast tego w bazie możemy znaleźć tabelę o nazwie actor_movies (tabela pośrednia). Dodajmy kilka fimów i aktorów."
   ]
  },
  {
   "cell_type": "code",
   "execution_count": 2,
   "id": "b0b2a060",
   "metadata": {},
   "outputs": [],
   "source": [
    "from orm_app.models import Actor, Movie\n",
    "\n",
    "movie_1 = Movie.objects.create(title='The Godfather')\n",
    "movie_2 = Movie.objects.create(title='The Heat')\n",
    "movie_3 = Movie.objects.create(title='The Irishman')\n",
    "movie_4 = Movie.objects.create(title='Taxi Driver')\n",
    "movie_5 = Movie.objects.create(title='Matrix')\n",
    "\n",
    "actor_1 = Actor.objects.create(name='Al Pacino')\n",
    "actor_2 = Actor.objects.create(name='Robert De Niro')\n",
    "actor_3 = Actor.objects.create(name='Keanu Reeves')"
   ]
  },
  {
   "cell_type": "markdown",
   "id": "00675b7e",
   "metadata": {},
   "source": [
    "Patrzymy do bazy i widzimy wpisy w tabeli movie i wpisy w tabeli actor, ale w tabeli movie_actors mamy 0 wpisów. W jaki sposób powiązać teraz wpisy z tabeli movie z wpisami z tabeli actor? "
   ]
  },
  {
   "cell_type": "code",
   "execution_count": 3,
   "id": "cb85a099",
   "metadata": {},
   "outputs": [],
   "source": [
    "# Sposób I - metoda add\n",
    "movie_1.actors.add(actor_1)"
   ]
  },
  {
   "cell_type": "code",
   "execution_count": 4,
   "id": "441003ca",
   "metadata": {},
   "outputs": [],
   "source": [
    "# Sposób II - metoda add (od drugiej strony relacji)\n",
    "actor_2.movie_set.add(movie_1)"
   ]
  },
  {
   "cell_type": "code",
   "execution_count": 5,
   "id": "8a92b4a8",
   "metadata": {},
   "outputs": [
    {
     "data": {
      "text/plain": [
       "<Actor: Marlon Brando>"
      ]
     },
     "execution_count": 5,
     "metadata": {},
     "output_type": "execute_result"
    }
   ],
   "source": [
    "# Sposób III - metoda create (metoda która jednocześnie tworzy wpis i powiązuje go)\n",
    "movie_1.actors.create(name=\"Marlon Brando\")"
   ]
  },
  {
   "cell_type": "code",
   "execution_count": 6,
   "id": "edba4212",
   "metadata": {},
   "outputs": [],
   "source": [
    "# Sposób IV - metoda set (jeżeli chcemy utworzyć kilka powiązań)\n",
    "actors_list = [actor_1, actor_2]\n",
    "movie_2.actors.set(actors_list)"
   ]
  },
  {
   "cell_type": "code",
   "execution_count": null,
   "id": "bb34c618",
   "metadata": {},
   "outputs": [],
   "source": [
    "# Sposób V - metoda add też może służyc do dodania kilku powiązań jednocześnie, tylko trzeb użyć operatora rozpakowywania\n",
    "movie_3.actors.add(*actors_list)"
   ]
  },
  {
   "cell_type": "markdown",
   "id": "ccfb338b",
   "metadata": {},
   "source": [
    "Różnica pomiędzy sposobem IV i V polega na tym, że metoda set nadpisze wszystkie istniejące powiązania movie_2 podczas gdy metoda add do istniejących powiązań movie_3 doda nowe."
   ]
  },
  {
   "cell_type": "code",
   "execution_count": 7,
   "id": "d7d5a341",
   "metadata": {},
   "outputs": [],
   "source": [
    "# Oczywiście to samo możemy robić wychodząc od drugiej strony relacji\n",
    "actor_3.movie_set.add(movie_5)"
   ]
  },
  {
   "cell_type": "markdown",
   "id": "a04a9761",
   "metadata": {},
   "source": [
    "Tym razem po obu stronach relacji mamych powiązane menadżery (ang. *related manager*)"
   ]
  },
  {
   "cell_type": "code",
   "execution_count": 9,
   "id": "cd8a6a66",
   "metadata": {},
   "outputs": [
    {
     "data": {
      "text/plain": [
       "<QuerySet [<Movie: The Godfather>, <Movie: The Heat>]>"
      ]
     },
     "execution_count": 9,
     "metadata": {},
     "output_type": "execute_result"
    }
   ],
   "source": [
    "# Wszystki poznane wcześniej reguły pozostają w mocy\n",
    "\n",
    "# Wszystkie filmy, w których zagrał Al Pacino - metoda I\n",
    "Movie.objects.filter(actors__name=\"Al Pacino\")"
   ]
  },
  {
   "cell_type": "code",
   "execution_count": 10,
   "id": "75031a76",
   "metadata": {},
   "outputs": [
    {
     "data": {
      "text/plain": [
       "<QuerySet [<Movie: The Godfather>, <Movie: The Heat>]>"
      ]
     },
     "execution_count": 10,
     "metadata": {},
     "output_type": "execute_result"
    }
   ],
   "source": [
    "# Wszystkie filmy w których zagrał Al Pacino - metoda II\n",
    "actor_1.movie_set.all()"
   ]
  },
  {
   "cell_type": "code",
   "execution_count": 11,
   "id": "0a935c4b",
   "metadata": {},
   "outputs": [
    {
     "data": {
      "text/plain": [
       "<QuerySet [<Actor: Al Pacino>, <Actor: Robert De Niro>, <Actor: Marlon Brando>]>"
      ]
     },
     "execution_count": 11,
     "metadata": {},
     "output_type": "execute_result"
    }
   ],
   "source": [
    "# Wszyscy aktorzy, którzy zagrali w 'The Godfather'\n",
    "movie_1.actors.all()"
   ]
  },
  {
   "cell_type": "code",
   "execution_count": null,
   "id": "f97de1df-8562-4857-afad-5345788655d8",
   "metadata": {},
   "outputs": [],
   "source": []
  }
 ],
 "metadata": {
  "kernelspec": {
   "display_name": "Python 3 (ipykernel)",
   "language": "python",
   "name": "python3"
  },
  "language_info": {
   "codemirror_mode": {
    "name": "ipython",
    "version": 3
   },
   "file_extension": ".py",
   "mimetype": "text/x-python",
   "name": "python",
   "nbconvert_exporter": "python",
   "pygments_lexer": "ipython3",
   "version": "3.12.8"
  }
 },
 "nbformat": 4,
 "nbformat_minor": 5
}
