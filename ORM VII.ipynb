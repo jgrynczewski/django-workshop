{
 "cells": [
  {
   "cell_type": "markdown",
   "id": "a8134b29-019c-4d18-918f-a2b9fc510f5d",
   "metadata": {},
   "source": [
    "### [inspect_db](https://docs.djangoproject.com/en/5.1/howto/legacy-databases/#auto-generate-the-models)"
   ]
  },
  {
   "cell_type": "markdown",
   "id": "6484f529-230f-4dee-8d51-20d852772ee6",
   "metadata": {},
   "source": [
    "Na potrzeby tego notatnika dodajemy w settings.py bazę `census.sqlite`, która znajduje się w projekcie. Baza jest również dostępna pod adresem: https://raw.githubusercontent.com/johnashu/datacamp/refs/heads/master/census.sqlite"
   ]
  },
  {
   "cell_type": "code",
   "execution_count": null,
   "id": "d0016a6e-806e-4af4-9f97-ca2f2ad70316",
   "metadata": {},
   "outputs": [],
   "source": [
    "!python manage.py inspectdb --database census"
   ]
  },
  {
   "cell_type": "markdown",
   "id": "53c9d785-a945-4e4c-ac6d-1e4e7303b373",
   "metadata": {},
   "source": [
    "Output przekierowujemy do pliku."
   ]
  },
  {
   "cell_type": "code",
   "execution_count": null,
   "id": "5a9f5748-722c-4bdf-a80d-987a4e4af574",
   "metadata": {},
   "outputs": [],
   "source": [
    "!python manage.py inspectdb --database census > pre_models.py"
   ]
  }
 ],
 "metadata": {
  "kernelspec": {
   "display_name": "Python 3 (ipykernel)",
   "language": "python",
   "name": "python3"
  },
  "language_info": {
   "codemirror_mode": {
    "name": "ipython",
    "version": 3
   },
   "file_extension": ".py",
   "mimetype": "text/x-python",
   "name": "python",
   "nbconvert_exporter": "python",
   "pygments_lexer": "ipython3",
   "version": "3.12.8"
  }
 },
 "nbformat": 4,
 "nbformat_minor": 5
}
