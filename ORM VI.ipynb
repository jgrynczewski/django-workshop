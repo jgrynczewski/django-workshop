{
 "cells": [
  {
   "cell_type": "markdown",
   "id": "edf34380-3aa6-44fb-a880-35fe00d52497",
   "metadata": {},
   "source": [
    "### Menadżer modelu w pigułce"
   ]
  },
  {
   "cell_type": "markdown",
   "id": "d2e4e64f-7734-4e9b-bde7-652fb0e24a7e",
   "metadata": {},
   "source": [
    "Czym są menadżery?\n",
    "\n",
    "Manager to interfejs udostępniający zapytania bazodanowe z poziomy modelu Django. Warto w tym miejscu zwrócić uwagę na to, że metody modelu są operacjami dotyczącymi pojedynczego wiersza tabeli (obiektu), podczas gdy metody managera są operacjami na całej tabeli (ew. na wielu wierszach)."
   ]
  },
  {
   "cell_type": "code",
   "execution_count": null,
   "id": "136199ea-01da-45c7-bdea-1c0341e66735",
   "metadata": {},
   "outputs": [],
   "source": [
    "import os\n",
    "import django\n",
    "os.environ.setdefault('DJANGO_SETTINGS_MODULE', 'intro.settings')\n",
    "os.environ[\"DJANGO_ALLOW_ASYNC_UNSAFE\"] = \"true\"\n",
    "django.setup()"
   ]
  },
  {
   "cell_type": "markdown",
   "id": "c7d58f7b-2db3-4abf-bd3e-2f7f3c2942b3",
   "metadata": {},
   "source": [
    "Będziemy używali modelu z samouczka Django"
   ]
  },
  {
   "cell_type": "markdown",
   "id": "2d54ed7b-635c-429f-b5df-3102914ebc20",
   "metadata": {},
   "source": [
    "<code>\n",
    "from django.db import models\n",
    "\n",
    "class Question(models.Model):\n",
    "    question_text = models.CharField(max_length=200)\n",
    "    pub_date = models.DateTimeField(\"date published\")\n",
    "</code>"
   ]
  },
  {
   "cell_type": "markdown",
   "id": "effb97e1-d185-48de-acc2-2f7b6d01f5d3",
   "metadata": {},
   "source": [
    "Do odpytywania modelu używamy jego managera (domyślnie umieszczonego w atrybucie `objects`)."
   ]
  },
  {
   "cell_type": "code",
   "execution_count": null,
   "id": "d75e29de-346a-4b06-864f-40e6a23654ff",
   "metadata": {},
   "outputs": [],
   "source": [
    "from orm_app.models import Question\n",
    "\n",
    "result = Question.objects.filter(question_text=\"Is this looking ok?\")\n",
    "result"
   ]
  },
  {
   "cell_type": "markdown",
   "id": "1c860a2f-d0a1-4961-b536-283aeb17f06b",
   "metadata": {},
   "source": [
    "Ale równie dobrze możemy napisać:\n",
    "\n",
    "<code>\n",
    "from django.db import models\n",
    "\n",
    "class Question(models.Model):\n",
    "    question_text = models.CharField(max_length=200)\n",
    "    pub_date = models.DateTimeField(\"date published\")\n",
    "    objects = models.Manager()\n",
    "</code>\n",
    "\n",
    "otrzymamy ten sam efekt."
   ]
  },
  {
   "cell_type": "markdown",
   "id": "7c3c3c7b-ec8b-4eb6-9ee8-51a42cc232a5",
   "metadata": {},
   "source": [
    "Ale modele mogą mieć więcej managerów. Jeżeli chcemy stworzyć własnego managera możemy to zrobić na kilka sposobów:\n",
    "- `objects = CustomManager()` jeżeli mamy własnego managera\n",
    "- `objects = CustomQuerySet.as_manager()` jeżeli mamy własnego queryseta\n",
    "- `objects = CustomManager.from_queryset(CustomQuerySet)()` jeżeli mamy własnego managera i własnego queryseta"
   ]
  },
  {
   "cell_type": "markdown",
   "id": "fd2dcebc-cd3c-48c8-9b13-f9dcdfa35f9d",
   "metadata": {},
   "source": [
    "Popatrzmy na każdy ze sposobów."
   ]
  },
  {
   "cell_type": "markdown",
   "id": "3eaeb6a8-28ea-4179-b7d4-3b34fbfdd9c3",
   "metadata": {},
   "source": [
    "#### 1. CustomManager"
   ]
  },
  {
   "cell_type": "markdown",
   "id": "4b2e4f52-0d12-45e6-9171-81401d16b7b9",
   "metadata": {},
   "source": [
    "<code>\n",
    "from django.db import models\n",
    "\n",
    "class QuestionManager(models.Manager):\n",
    "    ...\n",
    "\n",
    "class Question(models.Model):\n",
    "    question_text = models.CharField(max_length=200)\n",
    "    pub_date = models.DateTimeField(\"date published\")\n",
    "    objects = QuestionManager()\n",
    "</code>"
   ]
  },
  {
   "cell_type": "markdown",
   "id": "07800ec0-62b7-45c8-9d81-05f6320b7634",
   "metadata": {},
   "source": [
    "#### 2. CustomQuerySet"
   ]
  },
  {
   "cell_type": "markdown",
   "id": "e812bd37-5df0-4c27-8893-12b436bc3716",
   "metadata": {},
   "source": [
    "<code>\n",
    "from django.db import models\n",
    "\n",
    "class QuestionQuerySet(models.QuerySet):\n",
    "    ...\n",
    "\n",
    "class Question(models.Model):\n",
    "    question_text = models.CharField(max_length=200)\n",
    "    pub_date = models.DateTimeField(\"date published\")\n",
    "    objects = QuestionQuerySet.as_manager()\n",
    "</code>"
   ]
  },
  {
   "cell_type": "markdown",
   "id": "5afd759f-ac4e-46c0-bd51-8d0b055602ad",
   "metadata": {},
   "source": [
    "#### 3. CustomManager i CustomQuerySet"
   ]
  },
  {
   "cell_type": "markdown",
   "id": "e173d1b7-da3e-44a9-ab22-bfcfaae0a79e",
   "metadata": {},
   "source": [
    "<code>\n",
    "from django.db import models\n",
    "\n",
    "class QuestionQuerySet(models.QuerySet):\n",
    "    ...\n",
    "\n",
    "class QuestionManager(models.Manager):\n",
    "    ...\n",
    "\n",
    "class Question(models.Model):\n",
    "    question_text = models.CharField(max_length=200)\n",
    "    pub_date = models.DateTimeField(\"date published\")\n",
    "    objects = QuestionManager.from_queryset(QuestionQuerySet)()\n",
    "</code>"
   ]
  },
  {
   "cell_type": "markdown",
   "id": "f9fc89ea-adb8-43f3-a2f5-ccb90a7b64bc",
   "metadata": {},
   "source": [
    "Ok, ale której z metod powinniśmy użyć. Managera, queryseta ? Jaka jest różnica między nimi?\n",
    "\n",
    "Podstawowa różnica polega na umiejętności łańcuchowania. QuerySet posiada płynny interfejs (ang. fluent interface) i w związku z tym potrafi się łańcuchować podczas gdy manager tego nie potrafi. Czyli jeżeli chcemy, żeby nasza customowa metoda odpytywania mogła być łańcuchowana używamy queryseta, w przeciwnym razie możemy użyć managera."
   ]
  },
  {
   "cell_type": "markdown",
   "id": "de86b202-765d-4eaf-a680-8788db9491d7",
   "metadata": {},
   "source": [
    "<code>\n",
    "from django.db import models\n",
    "\n",
    "class QuestionManager(models.Manager):\n",
    "    def published_in_future(self):\n",
    "        return self.filter(pub_date__gt=timezone.now())\n",
    "\n",
    "    def questions_about_me(self):\n",
    "        return self.filter(question_text__icontains=\"Jan Kowalski\")\n",
    "\n",
    "class Question(models.Model):\n",
    "    question_text = models.CharField(max_length=200)\n",
    "    pub_date = models.DateTimeField(\"date published\")\n",
    "    objects = QuestionManager()\n",
    "</code>"
   ]
  },
  {
   "cell_type": "markdown",
   "id": "4e58179f-ae69-4369-85ed-1ec61dc8bb4b",
   "metadata": {},
   "source": [
    "I teraz"
   ]
  },
  {
   "cell_type": "markdown",
   "id": "0aa8ae25-8490-462c-aa18-78f691004c2b",
   "metadata": {},
   "source": [
    "<code>\n",
    "# to zadziała\n",
    "Question.objects.published_in_future()\n",
    "Question.object.questions_about_me()\n",
    "# ale to już nie (AttributeError)\n",
    "Question.objects.published_in_future().questions_about_me()\n",
    "</code>"
   ]
  },
  {
   "cell_type": "markdown",
   "id": "2b59dc28-9cdc-490d-b7d6-caf92793bbb1",
   "metadata": {},
   "source": [
    "Jeżeli chcemy, żeby mogły się łańcuchować użyjmy queryseta."
   ]
  },
  {
   "cell_type": "markdown",
   "id": "fb271af4-76ca-49a0-9718-2e03a7e739c2",
   "metadata": {},
   "source": [
    "<code>\n",
    "from django.db import models\n",
    "\n",
    "class QuestionQuerySet(models.QuerySet):\n",
    "    def published_in_future(self):\n",
    "        return self.filter(pub_date__gt=timezone.now())\n",
    "\n",
    "    def questions_about_me(self):\n",
    "        return self.filter(question_text__icontains=\"Jan Kowalski\")\n",
    "\n",
    "class Question(models.Model):\n",
    "    question_text = models.CharField(max_length=200)\n",
    "    pub_date = models.DateTimeField(\"date published\")\n",
    "    objects = QuestionQuerySet.as_manager()\n",
    "</code>"
   ]
  },
  {
   "cell_type": "markdown",
   "id": "50e818aa-e555-4669-ab19-15d33eedfd56",
   "metadata": {},
   "source": [
    "Teraz"
   ]
  },
  {
   "cell_type": "markdown",
   "id": "fab92bb7-502a-472e-ae16-838223f39405",
   "metadata": {},
   "source": [
    "<code>\n",
    "# to wciąż zadziała\n",
    "Question.objects.published_in_future()\n",
    "Question.object.questions_about_me()\n",
    "# a poza tym, teraz to też działa\n",
    "Question.objects.published_in_future().questions_about_me()\n",
    "</code>"
   ]
  },
  {
   "cell_type": "markdown",
   "id": "1293faff-41b1-4186-8564-0440f2d7e0ea",
   "metadata": {},
   "source": [
    "Najprościej myśleć o tym w kategoriach crud.\n",
    "\n",
    "Managera tworzymy jeżeli mamy jakieś customowe metody związane z:\n",
    "- creating\n",
    "- updating\n",
    "- deleting\n",
    "\n",
    "w pozostałych przypadkach takich jak:\n",
    "- filtering\n",
    "- annotations/aggregations\n",
    "- reading\n",
    "\n",
    "używamy queryseta.\n",
    "\n",
    "Jeżeli mamy i to i to, wtedy wykorzystujemy trzecią metodą."
   ]
  },
  {
   "cell_type": "markdown",
   "id": "fd73bdcc-9fd1-440d-b58d-a00e9c49870d",
   "metadata": {},
   "source": [
    "<code>\n",
    "from django.db import models\n",
    "\n",
    "class QuestionManager(models.Manager):\n",
    "    def create_question(self, question: str): ...\n",
    "        \n",
    "class QuestionQuerySet(models.QuerySet):\n",
    "    def published_in_future(self): ...\n",
    "    def questions_about_me(self): ...\n",
    "\n",
    "class Question(models.Model):\n",
    "    question_text = models.CharField(max_length=200)\n",
    "    pub_date = models.DateTimeField(\"date published\")\n",
    "    objects = QuestionManager.from_queryset(QuestionQuerySet)()\n",
    "</code>"
   ]
  },
  {
   "cell_type": "markdown",
   "id": "27c52c00-e29c-45dc-830b-fa5b23d561ca",
   "metadata": {},
   "source": [
    "Ale po co w ogóle używać własnych managerów ?\n",
    "\n",
    "Powodów jest kilka:\n",
    "- zwiększają czytelność kodu\n",
    "- enkapsulują\n",
    "- są proste w testowaniu\n",
    "- są świetnym wstępem do zaawansowanych zagadnień ORM"
   ]
  },
  {
   "cell_type": "markdown",
   "id": "78fe6cbf-82ff-407e-92a0-7de579602a81",
   "metadata": {},
   "source": [
    "Kiedy używamy?\n",
    "\n",
    "Kiedy widzimy zapytania bazodanowe do przepisania/napisania, które prawdopodobnie będą się powtarzać w kilku miejscach."
   ]
  },
  {
   "cell_type": "markdown",
   "id": "8e96bebd-f8af-4c2e-9359-0c89194ff56c",
   "metadata": {},
   "source": [
    "#### Przykłady użycia"
   ]
  },
  {
   "cell_type": "markdown",
   "id": "cda32e13-ed6c-4f9f-a5ba-044b5c4f4b96",
   "metadata": {},
   "source": [
    "1. `.for_context(ctx)` - filtrowanie na podstawie przekazanego kontekstu\n",
    "\n",
    "<code>\n",
    "from django.db import models\n",
    "from users.models import User\n",
    "</code>\n",
    "\n",
    "<code>\n",
    "class NewEmployeeQuerySet(models.QuerySet):\n",
    "    def for_user(self, user: User):\n",
    "        queryset = self.filter(status=\"active\")\n",
    "        if not user.is_staff:\n",
    "            queryset = queryset.filter(user=user)\n",
    "        return queryset\n",
    "</code>"
   ]
  },
  {
   "cell_type": "markdown",
   "id": "54e6079b-d87f-45a3-abfe-dd9da9c6b4ca",
   "metadata": {},
   "source": [
    "2. `.is_CONDITION(cond?)`, `.not_CONDITION(cond?)`, `.exclude_CONDITION(cond?)` - filtrowanie na podstawie warunku\n",
    "\n",
    "<code>\n",
    "from django.db import models\n",
    "</code>\n",
    "\n",
    "<code>\n",
    "class NewEmployeeQuerySet(models.QuerySet):\n",
    "    def is_external(self): ...\n",
    "    def exclude_franchise(self): ...\n",
    "    def is_employed_for_year(self, year: int): ...\n",
    "</code>"
   ]
  },
  {
   "cell_type": "markdown",
   "id": "e8d7a03b-e68b-404a-94c2-cfdaa362a5ec",
   "metadata": {},
   "source": [
    "3. `.create_MODEL()`, `create_MODEL_for_CONTEXT(ctx)` - tworzenie wpisu (+ ew. side effects)"
   ]
  },
  {
   "cell_type": "markdown",
   "id": "e281a42e-b469-4d30-bf09-3980ab2211a1",
   "metadata": {},
   "source": [
    "<code>\n",
    "from django.contrib.auth.models import Group\n",
    "from django.contrib.auth.models import UserManager\n",
    "\n",
    "from club.models import Club\n",
    "</code>\n",
    "\n",
    "<code>\n",
    "class NewEmployeeManager(UserManager):\n",
    "    def create_user_for_club(self, club: Club, **kwargs):\n",
    "        user = self.model.objects.create_user(\n",
    "            email=club.officer.email if club.officer else \"\",\n",
    "            **kwargs\n",
    "        )\n",
    "        user.groups.add(\n",
    "            Group.objects.get(name=\"Club Users\")\n",
    "        )\n",
    "</code>"
   ]
  },
  {
   "cell_type": "markdown",
   "id": "6e2f6281-21cf-4486-a6db-68249ad948d3",
   "metadata": {},
   "source": [
    "4. `.within_RANGE()` - filtrowanie na podstawie zakresu numerycznego lub dat"
   ]
  },
  {
   "cell_type": "markdown",
   "id": "cea228a1-9839-4bdf-a5fa-18ffd02a3f8f",
   "metadata": {},
   "source": [
    "<code>\n",
    "import datetime\n",
    "from django.db import models\n",
    "from django.utils import timezone\n",
    "</code>\n",
    "\n",
    "<code>\n",
    "class NewEmployeeManager(models.QuerySet):\n",
    "    def within_start_date(self, days: int):\n",
    "        return self.filter(\n",
    "            hire__start_date__gte=(\n",
    "                timezone.localtime() - datetime.timedelta(days=days)\n",
    "            ).date(),\n",
    "            hire__start_date__lte=timezone.localtime().date()\n",
    "        )\n",
    "</code>"
   ]
  },
  {
   "cell_type": "markdown",
   "id": "a25ce9b6-e47b-4ccb-bcd8-dc9ad7bace29",
   "metadata": {},
   "source": [
    "5. `.greater_than_VALUE()`, `.less_than_VALUE()` - filtrowanie na podstawie wartości numerycznych/dat."
   ]
  },
  {
   "cell_type": "markdown",
   "id": "10e3e575-d2e1-4b52-b94a-f5038e170fce",
   "metadata": {},
   "source": []
  },
  {
   "cell_type": "markdown",
   "id": "13cf5574-c108-4c4a-8ecd-5d6920035075",
   "metadata": {},
   "source": [
    "6. `set_FILED()`, `toggle_FIELD()` - update pola dla wszystkich elementów queryseta"
   ]
  },
  {
   "cell_type": "markdown",
   "id": "b5a05aa5-3ae0-4594-bdf0-64d6780ae8d8",
   "metadata": {},
   "source": []
  },
  {
   "cell_type": "markdown",
   "id": "04952dcc-a865-4b64-8865-91f586df676e",
   "metadata": {},
   "source": [
    "7. `with_ANNOTATION()` - dodanie informacji nie dostępnych w modelu"
   ]
  },
  {
   "cell_type": "markdown",
   "id": "a1d1a441-9343-4302-b62d-f61ed1ae71a9",
   "metadata": {},
   "source": []
  }
 ],
 "metadata": {
  "kernelspec": {
   "display_name": "Python 3 (ipykernel)",
   "language": "python",
   "name": "python3"
  },
  "language_info": {
   "codemirror_mode": {
    "name": "ipython",
    "version": 3
   },
   "file_extension": ".py",
   "mimetype": "text/x-python",
   "name": "python",
   "nbconvert_exporter": "python",
   "pygments_lexer": "ipython3",
   "version": "3.12.8"
  }
 },
 "nbformat": 4,
 "nbformat_minor": 5
}
