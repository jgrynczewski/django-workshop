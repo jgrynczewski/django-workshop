{
 "cells": [
  {
   "cell_type": "markdown",
   "id": "6144477a",
   "metadata": {},
   "source": [
    "# Django ORM - Praca z danymi (komendy DML i DQL)"
   ]
  },
  {
   "cell_type": "markdown",
   "id": "f54273a4",
   "metadata": {},
   "source": [
    "**Definicje modelu**\n",
    "\n",
    "<code>class Task(models.Model):\n",
    "    name = models.CharField(max_length=64)\n",
    "</code>\n",
    "<code>\n",
    "    def __str__(self):\n",
    "        return f\"{self.name}\"\n",
    "</code>"
   ]
  },
  {
   "cell_type": "code",
   "execution_count": null,
   "id": "adfe4c55",
   "metadata": {},
   "outputs": [],
   "source": [
    "import os\n",
    "import django\n",
    "os.environ.setdefault('DJANGO_SETTINGS_MODULE', 'intro.settings')\n",
    "os.environ[\"DJANGO_ALLOW_ASYNC_UNSAFE\"] = \"true\"\n",
    "django.setup()"
   ]
  },
  {
   "cell_type": "code",
   "execution_count": null,
   "id": "81e61eff",
   "metadata": {},
   "outputs": [],
   "source": [
    "from orm_app.models import Task"
   ]
  },
  {
   "cell_type": "markdown",
   "id": "dd08bad7",
   "metadata": {},
   "source": [
    "## R - Read (CRUD) - DQL (Data Query Language) cd"
   ]
  },
  {
   "cell_type": "markdown",
   "id": "9af4fd03",
   "metadata": {},
   "source": [
    "### Składanie warunków (operator `AND`)"
   ]
  },
  {
   "cell_type": "markdown",
   "id": "d9435cd9",
   "metadata": {},
   "source": [
    "Wypisywanie kolejnych warunków po przecinku, jako kolejnych parametrów funkcji filter powoduje składanie tych warunków (koniunkcje/iloczyn logiczną) - operator and."
   ]
  },
  {
   "cell_type": "markdown",
   "id": "3b918055",
   "metadata": {},
   "source": [
    "Znajdż wszystkie wpisy w tabeli Task, które zaczynają się na Pr **i** kończą na anie."
   ]
  },
  {
   "cell_type": "code",
   "execution_count": null,
   "id": "66bafd32",
   "metadata": {},
   "outputs": [],
   "source": [
    "# Koniunkcja (and)\n",
    "\n",
    "# metoda I\n",
    "tasks = Task.objects.filter(name__startswith=\"Pr\").filter(name__endswith=\"anie\")\n",
    "\n",
    "# metoda II\n",
    "tasks = Task.objects.filter(name__startswith=\"Pr\", name__endswith=\"anie\")\n",
    "print(tasks)"
   ]
  },
  {
   "cell_type": "markdown",
   "id": "bb566081-e497-435c-aad5-574650ebbb87",
   "metadata": {},
   "source": [
    "Z dokładnością do tego, że przy podawaniu parametrów po przecinku (metoda II) nie możemy dwa razy użyć parametru o tej samej nazwie."
   ]
  },
  {
   "cell_type": "code",
   "execution_count": null,
   "id": "3d16a214-794a-4cc9-9a72-b4058b50b02b",
   "metadata": {},
   "outputs": [],
   "source": [
    "# nie można dwa razy użyć tego samego warunku\n",
    "tasks = Task.objects.filter(name__startswith=\"Pr\", name__startswith=\"T\")"
   ]
  },
  {
   "cell_type": "markdown",
   "id": "1f6a121b-f328-49c2-9429-6c2f9a3c3c33",
   "metadata": {},
   "source": [
    "Alternatywę warunków (`or`) możemy uzyskać poprzez użycie operatora `|` na rozdzielnych querysetach."
   ]
  },
  {
   "cell_type": "code",
   "execution_count": null,
   "id": "fc51ac07-9b33-498d-a796-fa7653fd79ae",
   "metadata": {},
   "outputs": [],
   "source": [
    "queryset1 = Task.objects.filter(name__startswith=\"Pr\")\n",
    "queryset2 = Task.objects.filter(name__endswith=\"anie\")\n",
    "\n",
    "tasks = queryset1 | queryset2\n",
    "tasks"
   ]
  },
  {
   "cell_type": "markdown",
   "id": "9413e7df-3578-4ef0-81ef-d02239841e88",
   "metadata": {},
   "source": [
    "Zaprzeczenia warunków w bezpośredni sposób nie otrzymamy. Możemy kombinować z użyciem metod przeciwnych, na przykład zamiast metody `filter` możemy użyć metody `exclude`, ale bezpośredniej metody nie ma. Przynajmniej dopóki nie użyjemy obiektu Q."
   ]
  },
  {
   "cell_type": "markdown",
   "id": "01724219-896a-4261-88b3-c7d30766af04",
   "metadata": {},
   "source": [
    "### 3. Składanie zapytań za pomocą obiektów Q"
   ]
  },
  {
   "cell_type": "markdown",
   "id": "1e4ea3af-bd48-44df-aa0e-4cf475b33d4e",
   "metadata": {},
   "source": [
    "**Q-objects** pozwalają nam na:\n",
    "- składania operacji logicznych (operatory `or`, `and` i `not`)\n",
    "- enkapsulację złożonych lookupów"
   ]
  },
  {
   "cell_type": "markdown",
   "id": "32519397-5a84-4c95-a08a-4247d6c6551b",
   "metadata": {},
   "source": [
    "Obiekt Q służy do enkapsulacji pojedynczego lookupu, ew. grupy lookupów."
   ]
  },
  {
   "cell_type": "code",
   "execution_count": null,
   "id": "1b21de0b-3299-4963-84e6-b40ca32b9320",
   "metadata": {},
   "outputs": [],
   "source": [
    "from django.db.models import Q"
   ]
  },
  {
   "cell_type": "code",
   "execution_count": null,
   "id": "0b219729-e0a3-4e56-afc6-65b0a35e1ddd",
   "metadata": {},
   "outputs": [],
   "source": [
    "Q(name__endswith='anie')"
   ]
  },
  {
   "cell_type": "markdown",
   "id": "bb0bee58-05d5-4e43-8e04-56d5be6efadd",
   "metadata": {},
   "source": [
    "Następnie taki pojedynczy lookup, zamknięty w obiekcie Q może być składany z innym obiektem Q za pomocą operatorów `&` (and), `|` (or) ew. `^` (not)."
   ]
  },
  {
   "cell_type": "code",
   "execution_count": null,
   "id": "ce3d5229-4227-4f0f-84a1-765ae804b87e",
   "metadata": {},
   "outputs": [],
   "source": [
    "Q(name__endswith='anie') & Q(name__startswith=\"Pr\")"
   ]
  },
  {
   "cell_type": "code",
   "execution_count": null,
   "id": "7dfc0a0e-794d-410c-9662-cc04ed8eaac7",
   "metadata": {},
   "outputs": [],
   "source": [
    "Q(name__endswith='anie') | Q(name__startswith=\"Pr\")"
   ]
  },
  {
   "cell_type": "code",
   "execution_count": null,
   "id": "583f847f-108b-48e0-b9c0-35e2739ac2d8",
   "metadata": {},
   "outputs": [],
   "source": [
    "~(Q(name__endswith='anie') & Q(name__startswith=\"Pr\"))"
   ]
  },
  {
   "cell_type": "markdown",
   "id": "5fc68f67-2e21-4abc-aefd-ef5941dab24f",
   "metadata": {},
   "source": [
    "i nie ma ograniczenia na powtórzającą się nazwę parametru"
   ]
  },
  {
   "cell_type": "code",
   "execution_count": null,
   "id": "68158977-f2a2-48a0-b051-ba42769c676d",
   "metadata": {},
   "outputs": [],
   "source": [
    "Q(name__startswith='Pr') & Q(name__startswith=\"T\")"
   ]
  },
  {
   "cell_type": "markdown",
   "id": "bdae5488-598d-430f-994b-97eb149f6637",
   "metadata": {},
   "source": [
    "Otrzymane złożenie możemy wykorzystać w dowolnej z metod manadżera, która wykorzystuje lookupy."
   ]
  },
  {
   "cell_type": "code",
   "execution_count": null,
   "id": "028e3b2e-dbe2-41ed-b0eb-7f26d3a21483",
   "metadata": {},
   "outputs": [],
   "source": [
    "# Koniunkcja (and) z użyciem obiektów Q - operator &\n",
    "result = Task.objects.filter(Q(name__endswith='anie') & Q(name__startswith=\"Pr\"))\n",
    "result"
   ]
  },
  {
   "cell_type": "code",
   "execution_count": null,
   "id": "f650c25c-abe6-4f99-8253-9ba400d8af61",
   "metadata": {},
   "outputs": [],
   "source": [
    "# Alternatywa (or) z użyciem obiektów Q - operator |\n",
    "result = Task.objects.filter(Q(name__endswith='anie') | Q(name__startswith=\"Pr\"))\n",
    "result"
   ]
  },
  {
   "cell_type": "code",
   "execution_count": null,
   "id": "b8ec46af-0fc7-4d54-aafa-8a4e4c596c03",
   "metadata": {},
   "outputs": [],
   "source": [
    "# Zaprzeczenie (not) z użyciem obiektów Q - operator ~\n",
    "result = Task.objects.filter(~(Q(name__endswith='anie') & Q(name__startswith=\"Pr\")))\n",
    "result"
   ]
  },
  {
   "cell_type": "markdown",
   "id": "ebe71820-0d06-496a-963a-961d2311138d",
   "metadata": {},
   "source": [
    "Enkapsulacja lookupów pozwala nam na tworzenie złożonych, ale wciąż czytelnych zapytań."
   ]
  },
  {
   "cell_type": "code",
   "execution_count": null,
   "id": "45b751c0-6c13-46cb-8d1b-12be8dce2540",
   "metadata": {},
   "outputs": [],
   "source": [
    "pr_anie = Q(name__endswith='anie') | Q(name__startswith=\"Pr\")\n",
    "id_lt_3 = Q(id__lt=3)\n",
    "mask = pr_anie & id_lt_3\n",
    "\n",
    "Task.objects.exclude(mask)  # wykluczamy (`exclude`)"
   ]
  },
  {
   "cell_type": "markdown",
   "id": "e30c2de8",
   "metadata": {},
   "source": [
    "### Sortowanie - metoda `order_by` (klauzula `ORDER BY`)"
   ]
  },
  {
   "cell_type": "markdown",
   "id": "e0c87396",
   "metadata": {},
   "source": [
    "Klauzula ORDER BY implementowana jest w Django przez metodę order_by klasy QuerySet. Metoda order_by jako parametr przyjmuje nazwę kolumny, po której dane mają zostać posortowane. Może przyjąć więcej niż jeden parametr, wtedy wpisy które mają identyczną wartość w pierwszej kolumnie będą sortowane po drugiej wpisanej kolumnie, itd. Wartości w kolumnach tekstowych sortowane są alfabetycznie, a wartości w kolumnach liczbowych numerycznie."
   ]
  },
  {
   "cell_type": "markdown",
   "id": "8cb28680",
   "metadata": {},
   "source": [
    "Posortujemy wpisy w tabeli Task po wartościach w kolumnie name."
   ]
  },
  {
   "cell_type": "code",
   "execution_count": null,
   "id": "970cf2bd",
   "metadata": {},
   "outputs": [],
   "source": [
    "tasks = Task.objects.order_by('name')\n",
    "for task in tasks:\n",
    "    print(f\"{task.id} {task.name}\")"
   ]
  },
  {
   "cell_type": "code",
   "execution_count": null,
   "id": "86296aca",
   "metadata": {},
   "outputs": [],
   "source": [
    "# sql?\n",
    "print(tasks.query)"
   ]
  },
  {
   "cell_type": "markdown",
   "id": "00d0f4e5",
   "metadata": {},
   "source": [
    "Posortujmy wpisy w tabeli Task po kolumnie name, a wpisy które mają identyczną wartość w kolumnie name po kolumnie id."
   ]
  },
  {
   "cell_type": "code",
   "execution_count": null,
   "id": "3e75256a",
   "metadata": {},
   "outputs": [],
   "source": [
    "tasks = Task.objects.order_by('name', 'id')\n",
    "for task in tasks:\n",
    "    print(f\"{task.id} {task.name}\")"
   ]
  },
  {
   "cell_type": "markdown",
   "id": "cf0eb7c2",
   "metadata": {},
   "source": [
    "#### Sortowanie odwrotne - Metoda I (metoda `reverse`)"
   ]
  },
  {
   "cell_type": "markdown",
   "id": "775558f4",
   "metadata": {},
   "source": [
    "Sortować w kolejności odwrotnej możemy z użyciem metody reverse()"
   ]
  },
  {
   "cell_type": "code",
   "execution_count": null,
   "id": "630cecf3",
   "metadata": {},
   "outputs": [],
   "source": [
    "tasks = Task.objects.order_by('name').reverse()\n",
    "for task in tasks:\n",
    "    print(f\"{task.id} {task.name}\")"
   ]
  },
  {
   "cell_type": "code",
   "execution_count": null,
   "id": "d5995da2",
   "metadata": {},
   "outputs": [],
   "source": [
    "print(tasks.query)"
   ]
  },
  {
   "cell_type": "markdown",
   "id": "e98e0e94",
   "metadata": {},
   "source": [
    "#### Sortowanie odwrotne - Metoda II (nazwa kolumny)"
   ]
  },
  {
   "cell_type": "markdown",
   "id": "90b7a866",
   "metadata": {},
   "source": [
    "lub poprzez wstawienie przed nazwą kolumny minusa."
   ]
  },
  {
   "cell_type": "code",
   "execution_count": null,
   "id": "397b309a",
   "metadata": {},
   "outputs": [],
   "source": [
    "tasks = Task.objects.order_by('-name')\n",
    "for task in tasks:\n",
    "    print(f\"{task.id} {task.name}\")"
   ]
  },
  {
   "cell_type": "markdown",
   "id": "61c2d646",
   "metadata": {},
   "source": [
    "### Funkcje agregujące (metoda `aggregate`)"
   ]
  },
  {
   "cell_type": "markdown",
   "id": "ec8a3c23",
   "metadata": {},
   "source": [
    "Funkcje agregujące w sql to operatory, które wykonują na wskazanych danych proste statystyki takie jak średnia, wartość maksymalna, suma czy liczba wpisów (SUM, AVG, MIN, MAX, COUNT)."
   ]
  },
  {
   "cell_type": "markdown",
   "id": "57d65b45-a51e-4c0c-9984-d0aaabb7f769",
   "metadata": {},
   "source": [
    "Najprostszym możliwym agregatem są zliczenia. W Django mamy na to dedykowaną metodę queryseta - `count`."
   ]
  },
  {
   "cell_type": "code",
   "execution_count": null,
   "id": "7b40608c-b7a4-4eff-956b-e7bf6326cce3",
   "metadata": {},
   "outputs": [],
   "source": [
    "Task.objects.all().count()"
   ]
  },
  {
   "cell_type": "code",
   "execution_count": null,
   "id": "727266df-ca3e-4393-b7f2-fc79a5c9ccb7",
   "metadata": {},
   "outputs": [],
   "source": [
    "Task.objects.filter(name__startswith=\"s\").count()"
   ]
  },
  {
   "cell_type": "markdown",
   "id": "6b418c01-88c6-418a-aaab-aca79edcb08f",
   "metadata": {},
   "source": [
    "W Django istnieje druga metoda za pomocą, której możemy zrobić to samo - `aggregate`."
   ]
  },
  {
   "cell_type": "code",
   "execution_count": null,
   "id": "0acdc08e-e74e-4be9-9a69-35ca88867e32",
   "metadata": {},
   "outputs": [],
   "source": [
    "from django.db.models import Count\n",
    "\n",
    "Task.objects.all().aggregate(Count('name'))"
   ]
  },
  {
   "cell_type": "markdown",
   "id": "065aa2a7-42b9-4494-91d8-af47fc98e675",
   "metadata": {},
   "source": [
    "Metoda `aggregate` ma znacznie większe możliwości. Jako parametr przyjmuje instancje odpowiedniej klasy z modułu django.db.models (Sum, Avg, Min, Max, Count, ...). Te klasy reprezentują wbudowane w Django funkcje agregujące. Jako parametr przyjmują nazwę kolumny (atrybutu), na której ma zostać wyliczona ta funkcja."
   ]
  },
  {
   "cell_type": "markdown",
   "id": "e06c00fe",
   "metadata": {},
   "source": [
    "Znajdź sumę indeksów wszystkich wpisów tabeli Task. "
   ]
  },
  {
   "cell_type": "code",
   "execution_count": null,
   "id": "d422baaf",
   "metadata": {},
   "outputs": [],
   "source": [
    "from django.db.models import Sum\n",
    "\n",
    "a_sum = Task.objects.aggregate(Sum('id'))\n",
    "print(a_sum)"
   ]
  },
  {
   "cell_type": "code",
   "execution_count": null,
   "id": "53eb4dc2-693a-4c95-810e-0992cc419a21",
   "metadata": {},
   "outputs": [],
   "source": [
    "print(connection.queries[-1])"
   ]
  },
  {
   "cell_type": "markdown",
   "id": "adff4130",
   "metadata": {},
   "source": [
    "Funkcja agregująca zwraca słownik z kluczem \n",
    "`<nazwa_kolumny_wzdluz_ktorej_zachodzi_agregacja>_ _<nazwa_funkcji_agregującej>` oraz wartością będąca wyliczoną statystyką."
   ]
  },
  {
   "cell_type": "markdown",
   "id": "18554ff7-f8b0-47cc-bbb2-89f0fcab1753",
   "metadata": {},
   "source": [
    "Jeżeli nazwa nam nie odpowiada możemy użyć aliasów."
   ]
  },
  {
   "cell_type": "code",
   "execution_count": null,
   "id": "b7214cad-5a3b-474d-8338-77acbb1de722",
   "metadata": {},
   "outputs": [],
   "source": [
    "a_sum = Task.objects.aggregate(total=Sum('id'))\n",
    "print(a_sum)"
   ]
  },
  {
   "cell_type": "code",
   "execution_count": null,
   "id": "2503f0f2-b0dd-4a8b-9fa4-dbd9d5ed05c7",
   "metadata": {},
   "outputs": [],
   "source": [
    "print(connection.queries[-1])"
   ]
  },
  {
   "cell_type": "markdown",
   "id": "9502e4a8",
   "metadata": {},
   "source": [
    "Znajdź średnią wartość indeksu wpisów tabeli Task o wartości w kolumnie name \"Szukanie\""
   ]
  },
  {
   "cell_type": "code",
   "execution_count": null,
   "id": "756a3310",
   "metadata": {},
   "outputs": [],
   "source": [
    "from django.db.models import Avg\n",
    "\n",
    "avg = Task.objects.filter(name=\"Szukanie\").aggregate(Avg('id'))\n",
    "print(avg)"
   ]
  },
  {
   "cell_type": "markdown",
   "id": "00f8fc23-eac6-4bed-b713-5c628d0c7962",
   "metadata": {},
   "source": [
    "W jednym zapytaniu możemy umieścić kilka statystyk."
   ]
  },
  {
   "cell_type": "code",
   "execution_count": null,
   "id": "59913014-7743-4f08-a68b-14f6b504d5b2",
   "metadata": {},
   "outputs": [],
   "source": [
    "from django.db.models import Avg, Count, Sum\n",
    "\n",
    "stats = Task.objects.filter(name=\"Szukanie\").aggregate(\n",
    "    Avg('id'), Count('name'), Sum('id')\n",
    ")\n",
    "print(stats)"
   ]
  },
  {
   "cell_type": "markdown",
   "id": "b44cfed9-d6b0-4cdd-ab9c-7604d38e46dc",
   "metadata": {},
   "source": [
    "Popatrzmy co jeszcze można znaleźć w module `django.db.models`."
   ]
  },
  {
   "cell_type": "code",
   "execution_count": null,
   "id": "876f9025-9076-4bc8-b56f-770172d00ac8",
   "metadata": {},
   "outputs": [],
   "source": [
    "import django.db.models as django_models\n",
    "\n",
    "print(dir(django_models))  #  Count, Sum Max, Min, Sum, Avg, StdDev, Variance"
   ]
  },
  {
   "cell_type": "markdown",
   "id": "3f3a2699-0c74-4a95-8fa7-249b783ee037",
   "metadata": {},
   "source": [
    "### Metoda `annotate`"
   ]
  },
  {
   "cell_type": "markdown",
   "id": "17b31fbc-b919-44c4-bb82-1002c25c5b41",
   "metadata": {},
   "source": [
    "When we annotate our model in Django we are adding a summary record or some sort of aggregated record for every single model in the queryset. So rather than a single output number we are annotating every Django model in the queryset with a particular value that's not defined by default on that model"
   ]
  },
  {
   "cell_type": "markdown",
   "id": "eb6aaae4-ac31-4421-b027-c0b74231afae",
   "metadata": {},
   "source": [
    "Podstawowa różnica pomiędzy metodami `aggregate` i `annotate` polega na tym, że kiedy używamy metody `annotate` dodajemy jakieś pole (wartość) do każdego wpisu z naszego queryseta, podczas gdy w metodzie `aggregate` wyliczamy jedną wartość na podstawie wszystkich wpisów z queryseta. Zamiast jednego wyniku liczbowego, anotujemy każdy model w querysecie z określoną wartością, która domyślnie nie jest zdefiniowana w tym modelu.\n",
    "\n",
    "Metoda `annotate` jest stosowana na każdym wpisie z queryseta i dla każdego wpisu zwraca jakąś wartość. Pozwala na dodanie dodatkowych informacji do naszych wpisów. "
   ]
  },
  {
   "cell_type": "markdown",
   "id": "f6d4c3ae-84c6-456a-ad7d-e5b0da201fab",
   "metadata": {},
   "source": [
    "Założmy, że wyciągamy wszystkie taski i wynik chcemy uzupełnić o liczbę znaków w nazwie każdego z tasków."
   ]
  },
  {
   "cell_type": "markdown",
   "id": "4623d959-99cd-4bca-9598-26be23140565",
   "metadata": {},
   "source": [
    "Metody annotate używamy podobnie jak metody aggregate. Korzysta z funkcji z modułu `django.db.models.functions`."
   ]
  },
  {
   "cell_type": "code",
   "execution_count": null,
   "id": "709bf659-e93b-47f8-afc5-223933ebfd04",
   "metadata": {},
   "outputs": [],
   "source": [
    "import django.db.models.functions\n",
    "\n",
    "print(dir(django.db.models.functions))"
   ]
  },
  {
   "cell_type": "markdown",
   "id": "39474eba-4826-4fcb-9a32-1ee5776b9c00",
   "metadata": {},
   "source": [
    "Nas interesuje funkcja `Length`"
   ]
  },
  {
   "cell_type": "code",
   "execution_count": null,
   "id": "0b7dd247-8b12-49b2-853b-65689e87ab52",
   "metadata": {},
   "outputs": [],
   "source": [
    "from django.db.models.functions import Length\n",
    "\n",
    "tasks = Task.objects.annotate(len_name=Length('name'))"
   ]
  },
  {
   "cell_type": "code",
   "execution_count": null,
   "id": "dabd7c87-5b45-4de7-906d-84dd6cb6eb7f",
   "metadata": {},
   "outputs": [],
   "source": [
    "print(tasks.query)"
   ]
  },
  {
   "cell_type": "code",
   "execution_count": null,
   "id": "f10c05ef-95bc-4d72-91b0-5d316ac2991c",
   "metadata": {},
   "outputs": [],
   "source": [
    "tasks.first().len_name"
   ]
  },
  {
   "cell_type": "markdown",
   "id": "57855d3a-3a28-4faf-b6bc-6721bfd1065a",
   "metadata": {},
   "source": [
    "Anotacji możemy używać w filtrach."
   ]
  },
  {
   "cell_type": "code",
   "execution_count": null,
   "id": "1801e27a-e0b6-4b17-a46c-8cc6a1a5a105",
   "metadata": {},
   "outputs": [],
   "source": [
    "tasks = Task.objects.annotate(len_name=Length('name')).filter(len_name__gte=10)\n",
    "print(tasks)"
   ]
  },
  {
   "cell_type": "markdown",
   "id": "6183919e-135c-43a3-8894-baea29bde374",
   "metadata": {},
   "source": [
    "Kilka innych przykładów."
   ]
  },
  {
   "cell_type": "code",
   "execution_count": null,
   "id": "3af0c74e-cb7b-4326-ab80-59f550666868",
   "metadata": {},
   "outputs": [],
   "source": [
    "from django.db.models.functions import Upper, Concat\n",
    "from django.db.models import Value\n",
    "from django.db.models import CharField\n",
    "\n",
    "concatenation = Concat(\n",
    "    'name', Value(' [id='), 'id', Value(']'),\n",
    "    output_field=CharField()\n",
    ")\n",
    "tasks = Task.objects.annotate(\n",
    "    upper_name=Upper('name'), \n",
    "    message=concatenation\n",
    ")\n",
    "print(tasks)"
   ]
  },
  {
   "cell_type": "markdown",
   "id": "59aaf7eb-6580-4105-a1e5-1901d91ea496",
   "metadata": {},
   "source": [
    "W przypadku użycia różnych typów danych w funkcji `Concat` należy wskazać typ wyjściowy za pomocą parametru `output_field`."
   ]
  },
  {
   "cell_type": "code",
   "execution_count": null,
   "id": "ddf3f70f-cff4-4650-920e-80a11421a8c4",
   "metadata": {},
   "outputs": [],
   "source": [
    "print(tasks.query)"
   ]
  },
  {
   "cell_type": "code",
   "execution_count": null,
   "id": "cea0a0fe-0732-4220-a99b-9c48cb086a57",
   "metadata": {},
   "outputs": [],
   "source": [
    "tasks.first().upper_name"
   ]
  },
  {
   "cell_type": "code",
   "execution_count": null,
   "id": "d6bb1bce-f7fa-4a85-9c2c-f97c0af29b8a",
   "metadata": {},
   "outputs": [],
   "source": [
    "tasks.first().message"
   ]
  },
  {
   "cell_type": "markdown",
   "id": "b9bd1611",
   "metadata": {},
   "source": [
    "## U - UPDATE (CRUD) - DML (Data Manipulation Language)"
   ]
  },
  {
   "cell_type": "markdown",
   "id": "0d8cf797",
   "metadata": {},
   "source": [
    "### Klauzula UPDATE"
   ]
  },
  {
   "cell_type": "code",
   "execution_count": null,
   "id": "fecee9a8",
   "metadata": {},
   "outputs": [],
   "source": [
    "# Metoda I - metoda update mandżera modelu (i QuerySet-a)\n",
    "# UWAGA! Dane należy najperw przefiltrować, żeby jednym zapytanie NIE ZMIENIĆ WSZYSTKICH wpisów \n",
    "# w tabeli.\n",
    "\n",
    "tasks = Task.objects.filter(name__endswith=\"enie\").update(name=\"GGotowanie\")\n",
    "print(tasks)"
   ]
  },
  {
   "cell_type": "markdown",
   "id": "9bd74f21",
   "metadata": {},
   "source": [
    "Widzimy, że metoda update nie zwraca nam obiektu klasy QuerySet tylko liczbę zmodyfikowanych wpisów."
   ]
  },
  {
   "cell_type": "code",
   "execution_count": null,
   "id": "599e99c7",
   "metadata": {},
   "outputs": [],
   "source": [
    "# Metoda II - bezpośrednia modyfikacja wartości atrybutu instancji modelu\n",
    "\n",
    "task = Task.objects.get(name=\"Dodawanie\")\n",
    "task.name = \"Odejmowanie\"\n",
    "task.save()"
   ]
  },
  {
   "cell_type": "markdown",
   "id": "eebd1c21-1186-4699-91ad-ad86e2c86724",
   "metadata": {},
   "source": [
    "A w jaki sposób możemy sprawdzić jakie zapytanie zostało wykonane na bazie, jeżeli nie mamy dostępu do obiekty queryset?\n",
    "\n",
    "Możemy użyć obiektu `connection` z modułu `django.db`."
   ]
  },
  {
   "cell_type": "code",
   "execution_count": null,
   "id": "c0cf42ef-72a6-4b3c-8062-13ecf59e9944",
   "metadata": {},
   "outputs": [],
   "source": [
    "from django.db import connection\n",
    "\n",
    "connection.queries"
   ]
  },
  {
   "cell_type": "markdown",
   "id": "92fe779d-365d-4d38-919d-605c6b26ff02",
   "metadata": {},
   "source": [
    "Co prawda w ten sposób dostaniemy wszystkie zapytania wykonane w ramach nawiązanego polączenia, ale interesujące nas zapytanie będzie wśród nich. Najnowsze zapytanie będzie ostatnie na liście."
   ]
  },
  {
   "cell_type": "code",
   "execution_count": null,
   "id": "f39779f1-20a0-427f-8780-4f23e59883c4",
   "metadata": {},
   "outputs": [],
   "source": [
    "connection.queries[-1]"
   ]
  },
  {
   "cell_type": "markdown",
   "id": "c6abd166",
   "metadata": {},
   "source": [
    "## D - DELETE (CRUD) - DML (DATA Manipulation Language)"
   ]
  },
  {
   "cell_type": "markdown",
   "id": "03db1d66",
   "metadata": {},
   "source": [
    "### Klauzula DELETE"
   ]
  },
  {
   "cell_type": "code",
   "execution_count": null,
   "id": "2f524fa8",
   "metadata": {},
   "outputs": [],
   "source": [
    "# Metoda I - metoda delete menadżera modelu (i QuerySet-a)\n",
    "# UWAGA! Dane należy najperw przefiltrować, żeby jednym zapytanie NIE USUNĄĆ WSZYSTKICH wpisów \n",
    "# w tabeli.\n",
    "\n",
    "task = Task.objects.filter(name=\"Pływanie\").delete()\n",
    "print(task)"
   ]
  },
  {
   "cell_type": "markdown",
   "id": "e51f9359",
   "metadata": {},
   "source": [
    "Podobnie jak metoda update, metoda delete nie zwraca nam obiektu klasy Queryset tylko informacje o liczbie usuniętych wpisów (tym razem w postaci tupli, której pierwszy element to całkowita liczba usuniętych wpisów, a drugi element to słownik z kluczami będącymi nazwami modelu i wartościami będącymi liczbą usuniętych w danym modelu wpisów)."
   ]
  },
  {
   "cell_type": "code",
   "execution_count": null,
   "id": "c5934a2f",
   "metadata": {},
   "outputs": [],
   "source": [
    "# Metoda II - metoda delete instancji modelu\n",
    "\n",
    "task = Task.objects.get(name=\"Odejmowanie\")\n",
    "task.delete()"
   ]
  },
  {
   "cell_type": "markdown",
   "id": "b4b7d85e",
   "metadata": {},
   "source": [
    "Metoda delete instancji modelu zwraca nam identyczną odpowiedź co metoda delete menadżera modelu (i Queryset-a)"
   ]
  }
 ],
 "metadata": {
  "kernelspec": {
   "display_name": "Python 3 (ipykernel)",
   "language": "python",
   "name": "python3"
  },
  "language_info": {
   "codemirror_mode": {
    "name": "ipython",
    "version": 3
   },
   "file_extension": ".py",
   "mimetype": "text/x-python",
   "name": "python",
   "nbconvert_exporter": "python",
   "pygments_lexer": "ipython3",
   "version": "3.12.8"
  }
 },
 "nbformat": 4,
 "nbformat_minor": 5
}
